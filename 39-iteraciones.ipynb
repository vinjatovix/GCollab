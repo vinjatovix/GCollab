{
 "cells": [
  {
   "cell_type": "code",
   "execution_count": 1,
   "metadata": {},
   "outputs": [],
   "source": [
    "# 39 iteraciones"
   ]
  },
  {
   "cell_type": "code",
   "execution_count": 28,
   "metadata": {},
   "outputs": [
    {
     "name": "stdout",
     "output_type": "stream",
     "text": [
      "loop número 1\n",
      "loop número 2\n",
      "loop número 3\n"
     ]
    }
   ],
   "source": [
    "# while se repite mientras que la condicion que evalua sea cierta\n",
    "\n",
    "i = 0\n",
    "\n",
    "while i <= 2:\n",
    "    i += 1\n",
    "    print('loop número',i)\n",
    "    \n",
    "    # acuerdate de hacer algo para salir del bucle infinito"
   ]
  },
  {
   "cell_type": "code",
   "execution_count": 29,
   "metadata": {},
   "outputs": [
    {
     "name": "stdout",
     "output_type": "stream",
     "text": [
      "loop 4\n",
      "loop 5\n",
      "la tarea se ejecutó correctamente 5 veces\n"
     ]
    }
   ],
   "source": [
    "# while tambien se puede cerrar con un else\n",
    "\n",
    "while i <=4:\n",
    "    i += 1\n",
    "    print('loop',i)\n",
    "else:\n",
    "    print(f'la tarea se ejecutó correctamente {i} veces')"
   ]
  },
  {
   "cell_type": "code",
   "execution_count": 30,
   "metadata": {},
   "outputs": [
    {
     "name": "stdout",
     "output_type": "stream",
     "text": [
      "loop 1\n",
      "loop 2\n",
      "loop 3\n"
     ]
    }
   ],
   "source": [
    "# break sirve para romper la ejecucion en cualquier momento\n",
    "\n",
    "i = 0\n",
    "\n",
    "while i <= 9:\n",
    "    i += 1\n",
    "    if (i == 4):\n",
    "        break\n",
    "    print('loop',i)\n",
    "else:\n",
    "    print(f'la tarea se ejecutó correctamente {i} veces')"
   ]
  },
  {
   "cell_type": "code",
   "execution_count": 32,
   "metadata": {},
   "outputs": [
    {
     "name": "stdout",
     "output_type": "stream",
     "text": [
      "loop 1\n",
      "loop 3\n",
      "loop 5\n",
      "loop 7\n",
      "loop 9\n",
      "la tarea se ejecutoó correctamente 10 veces\n"
     ]
    }
   ],
   "source": [
    "# continue sirve para saltarse esa iteración\n",
    "# cuando la condición se cumple\n",
    "\n",
    "i = 0\n",
    "\n",
    "while i <= 9:\n",
    "    i += 1\n",
    "    if (i % 2 == 0):\n",
    "        continue\n",
    "    print('loop',i)\n",
    "else:\n",
    "    print(f'la tarea se ejecutoó correctamente {i} veces')"
   ]
  },
  {
   "cell_type": "code",
   "execution_count": 42,
   "metadata": {},
   "outputs": [
    {
     "name": "stdout",
     "output_type": "stream",
     "text": [
      "Este micófono es un SM 57\n",
      "Este micófono es un SM 58\n",
      "Este micófono es un MKH 416\n",
      "Este micófono es un CK 391\n",
      "Este micófono es un U 87\n",
      "Este micófono es un SM 7b\n"
     ]
    }
   ],
   "source": [
    "# for nos permite iterar la cantidad de veces que estimemos\n",
    "# en este caso vamos a escribir todos los micrófonos de la lista\n",
    "\n",
    "micros = ['SM 57','SM 58','MKH 416','CK 391','U 87','SM 7b']\n",
    "\n",
    "for mic in micros:\n",
    "    print(f'Este micófono es un {mic}')"
   ]
  },
  {
   "cell_type": "code",
   "execution_count": 43,
   "metadata": {},
   "outputs": [
    {
     "name": "stdout",
     "output_type": "stream",
     "text": [
      "[2, 6, 8, 18]\n"
     ]
    }
   ],
   "source": [
    "# pero y si lo que queremos es barrer una lista para modificarla?\n",
    "# no podemos modificar la variable mientras la llamamos\n",
    "# necesitamos crear un indice para recorrer la lista\n",
    "\n",
    "i = 0\n",
    "numeros = [1,3,4,9]\n",
    "\n",
    "for n in numeros:\n",
    "    numeros[i] *= 2\n",
    "    i += 1\n",
    "    \n",
    "print(numeros)"
   ]
  },
  {
   "cell_type": "code",
   "execution_count": 44,
   "metadata": {},
   "outputs": [
    {
     "name": "stdout",
     "output_type": "stream",
     "text": [
      "[4, 12, 16, 36]\n"
     ]
    }
   ],
   "source": [
    "# esto es un coñazo asi que existe el método enumerate() \n",
    "# para conseguir el indice y el valor en cada iteracion\n",
    "\n",
    "for i,n in enumerate(numeros):\n",
    "    numeros[i] *= 2\n",
    "    \n",
    "print(numeros)"
   ]
  },
  {
   "cell_type": "code",
   "execution_count": 52,
   "metadata": {},
   "outputs": [
    {
     "name": "stdout",
     "output_type": "stream",
     "text": [
      "SSooyy  iinnmmuuttaabbllee\n"
     ]
    }
   ],
   "source": [
    "# este metodo tambien funciona con cadenas\n",
    "# aunque las cadenas son inmutables podemos \n",
    "# guardar el resultado en una nueva variable\n",
    "\n",
    "cadena = 'Soy inmutable'\n",
    "cadena2 = ''\n",
    "for letra in cadena:\n",
    "    cadena2 += letra * 2\n",
    "    \n",
    "print(cadena2)"
   ]
  },
  {
   "cell_type": "code",
   "execution_count": 54,
   "metadata": {},
   "outputs": [
    {
     "name": "stdout",
     "output_type": "stream",
     "text": [
      "4\n",
      "5\n",
      "6\n",
      "7\n"
     ]
    }
   ],
   "source": [
    "# range genera una lista de numeros pero no ocupa memoria\n",
    "# se genera sobre la marcha\n",
    "\n",
    "for i in range(4,8):\n",
    "    print(i)"
   ]
  },
  {
   "cell_type": "code",
   "execution_count": 56,
   "metadata": {},
   "outputs": [
    {
     "name": "stdout",
     "output_type": "stream",
     "text": [
      "[0, 5, 10, 15, 20, 25]\n"
     ]
    }
   ],
   "source": [
    "# si queremos una lista literal podemos convertirlo\n",
    "\n",
    "numeros = list(range(0,30,5))\n",
    "print(numeros)"
   ]
  },
  {
   "cell_type": "code",
   "execution_count": null,
   "metadata": {},
   "outputs": [],
   "source": []
  }
 ],
 "metadata": {
  "kernelspec": {
   "display_name": "Python 3.8.2 64-bit",
   "language": "python",
   "name": "python38264bit0d89407e10104d4f89d7b40f85d57db9"
  },
  "language_info": {
   "codemirror_mode": {
    "name": "ipython",
    "version": 3
   },
   "file_extension": ".py",
   "mimetype": "text/x-python",
   "name": "python",
   "nbconvert_exporter": "python",
   "pygments_lexer": "ipython3",
   "version": "3.8.2"
  }
 },
 "nbformat": 4,
 "nbformat_minor": 4
}
