{
 "cells": [
  {
   "cell_type": "code",
   "execution_count": 1,
   "metadata": {},
   "outputs": [],
   "source": [
    "# 21 diccionarios. \n",
    "# Al igual que las listas se emplean muchísimo\n",
    "# Es una estructura mapeada. \n",
    "# Cada elemento tiene una clave única\n"
   ]
  },
  {
   "cell_type": "code",
   "execution_count": 2,
   "metadata": {},
   "outputs": [
    {
     "data": {
      "text/plain": [
       "'rojo'"
      ]
     },
     "execution_count": 2,
     "metadata": {},
     "output_type": "execute_result"
    }
   ],
   "source": [
    "# igual que los conjuntos se definen con llaves {}\n",
    "# pero también se pueden crear vacíos\n",
    "\n",
    "diccionario = {}\n",
    "dic_color = {'red':'rojo','blue':'azul'}\n",
    "\n",
    "# Como ves, los elementos se definen por clave:valor\n",
    "# consultamos el valor con la clave\n",
    "\n",
    "dic_color['red']"
   ]
  },
  {
   "cell_type": "code",
   "execution_count": 3,
   "metadata": {},
   "outputs": [
    {
     "data": {
      "text/plain": [
       "dict"
      ]
     },
     "execution_count": 3,
     "metadata": {},
     "output_type": "execute_result"
    }
   ],
   "source": [
    "# ¿De qué tipo son los dicionarios?\n",
    "\n",
    "type(dic_color)"
   ]
  },
  {
   "cell_type": "code",
   "execution_count": 4,
   "metadata": {},
   "outputs": [
    {
     "data": {
      "text/plain": [
       "{'red': 'rojo', 'blue': 'azul', 'black': 'negro'}"
      ]
     },
     "execution_count": 4,
     "metadata": {},
     "output_type": "execute_result"
    }
   ],
   "source": [
    "# Se pueden añadir elementos \n",
    "# con la estructura clave:valor\n",
    "\n",
    "dic_color['black'] = 'negro'\n",
    "dic_color"
   ]
  },
  {
   "cell_type": "code",
   "execution_count": 5,
   "metadata": {},
   "outputs": [
    {
     "data": {
      "text/plain": [
       "{'red': 'verde', 'blue': 'azul', 'black': 'negro'}"
      ]
     },
     "execution_count": 5,
     "metadata": {},
     "output_type": "execute_result"
    }
   ],
   "source": [
    "# Tambien sobreescribir valores\n",
    "\n",
    "dic_color['red'] = 'verde'\n",
    "dic_color"
   ]
  },
  {
   "cell_type": "code",
   "execution_count": 6,
   "metadata": {},
   "outputs": [
    {
     "data": {
      "text/plain": [
       "{'blue': 'azul', 'black': 'negro'}"
      ]
     },
     "execution_count": 6,
     "metadata": {},
     "output_type": "execute_result"
    }
   ],
   "source": [
    "# del()  borramos un elemento del diccionario\n",
    "\n",
    "del(dic_color['red'])\n",
    "dic_color"
   ]
  },
  {
   "cell_type": "code",
   "execution_count": 7,
   "metadata": {},
   "outputs": [
    {
     "data": {
      "text/plain": [
       "{'Son Goku': 100, 'Krilin': 0, 'Piccolo': 150}"
      ]
     },
     "execution_count": 7,
     "metadata": {},
     "output_type": "execute_result"
    }
   ],
   "source": [
    "# una utillidad es que podemos trabajar con sus registros\n",
    "# como si fuesen variables\n",
    "\n",
    "salud = {'Son Goku':100,'Krilin':20,'Piccolo':150}\n",
    "salud['Krilin']-=20\n",
    "salud"
   ]
  },
  {
   "cell_type": "code",
   "execution_count": 8,
   "metadata": {},
   "outputs": [
    {
     "name": "stdout",
     "output_type": "stream",
     "text": [
      "Son Goku\n",
      "Krilin\n",
      "Piccolo\n"
     ]
    }
   ],
   "source": [
    "# se puede iterar con for en el diccionario\n",
    "\n",
    "for personaje in salud:\n",
    "    print(personaje)"
   ]
  },
  {
   "cell_type": "code",
   "execution_count": 9,
   "metadata": {},
   "outputs": [
    {
     "name": "stdout",
     "output_type": "stream",
     "text": [
      "100\n",
      "0\n",
      "150\n"
     ]
    }
   ],
   "source": [
    "# pero si queremos los valores tenemos que indicar la clave\n",
    "\n",
    "for personaje in salud:\n",
    "    print(salud[personaje])"
   ]
  },
  {
   "cell_type": "code",
   "execution_count": 10,
   "metadata": {},
   "outputs": [
    {
     "name": "stdout",
     "output_type": "stream",
     "text": [
      "Son Goku 100\n",
      "Krilin 0\n",
      "Piccolo 150\n"
     ]
    }
   ],
   "source": [
    "# si queremos las dos cosas podemos pedirlo así\n",
    "\n",
    "for personaje in salud:\n",
    "    print(personaje,salud[personaje])"
   ]
  },
  {
   "cell_type": "code",
   "execution_count": 11,
   "metadata": {},
   "outputs": [
    {
     "name": "stdout",
     "output_type": "stream",
     "text": [
      "Son Goku 100\n",
      "Krilin 0\n",
      "Piccolo 150\n"
     ]
    }
   ],
   "source": [
    "# items() devuelve ambos datos en cada iteración\n",
    "# nos permite almacenarlos\n",
    "\n",
    "for personaje, vida in salud.items():\n",
    "    print(personaje, vida)"
   ]
  },
  {
   "cell_type": "code",
   "execution_count": 12,
   "metadata": {},
   "outputs": [
    {
     "name": "stdout",
     "output_type": "stream",
     "text": [
      "[{'nombre': 'SonGoku', 'especie': 'Saiyan', 'skill': 'comer'}, {'nombre': 'Piccolo', 'especie': 'Namekiano', 'skill': 'poner huevos'}, {'nombre': 'Krilin', 'especie': 'Humano', 'skill': 'morir'}]\n"
     ]
    }
   ],
   "source": [
    "# podemos crear estructuras complejas combinando \n",
    "# listas de diccionarios\n",
    "\n",
    "personajes = []\n",
    "\n",
    "Songoku = {'nombre':'SonGoku','especie':'Saiyan','skill':'comer'}\n",
    "Krilin = {'nombre':'Krilin','especie':'Humano','skill':'morir'}\n",
    "Piccolo = {'nombre':'Piccolo','especie':'Namekiano','skill':'poner huevos'}\n",
    "\n",
    "personajes.append(Songoku)\n",
    "personajes.append(Piccolo)\n",
    "personajes.append(Krilin)\n",
    "\n",
    "print(personajes)"
   ]
  },
  {
   "cell_type": "code",
   "execution_count": 13,
   "metadata": {},
   "outputs": [
    {
     "name": "stdout",
     "output_type": "stream",
     "text": [
      "SonGoku Saiyan comer\n",
      "Piccolo Namekiano poner huevos\n",
      "Krilin Humano morir\n"
     ]
    }
   ],
   "source": [
    "for personaje in personajes:\n",
    "    print(personaje['nombre'], personaje['especie'], personaje['skill'],)"
   ]
  },
  {
   "cell_type": "code",
   "execution_count": 14,
   "metadata": {},
   "outputs": [],
   "source": [
    "# Métodos de los diccionarios"
   ]
  },
  {
   "cell_type": "code",
   "execution_count": 15,
   "metadata": {},
   "outputs": [
    {
     "data": {
      "text/plain": [
       "'comer'"
      ]
     },
     "execution_count": 15,
     "metadata": {},
     "output_type": "execute_result"
    }
   ],
   "source": [
    "# get() busca un elemento por su clave \n",
    "# si no lo encuenta nos retorna un default\n",
    "\n",
    "Songoku.get('skill','no tiene skill')"
   ]
  },
  {
   "cell_type": "code",
   "execution_count": 16,
   "metadata": {},
   "outputs": [
    {
     "data": {
      "text/plain": [
       "dict_keys(['nombre', 'especie', 'skill'])"
      ]
     },
     "execution_count": 16,
     "metadata": {},
     "output_type": "execute_result"
    }
   ],
   "source": [
    "# keys() saca una lista de las claves del diccionario\n",
    "\n",
    "Songoku.keys()"
   ]
  },
  {
   "cell_type": "code",
   "execution_count": 17,
   "metadata": {},
   "outputs": [
    {
     "data": {
      "text/plain": [
       "dict_values(['SonGoku', 'Saiyan', 'comer'])"
      ]
     },
     "execution_count": 17,
     "metadata": {},
     "output_type": "execute_result"
    }
   ],
   "source": [
    "# values() sin embargo nos lista los valores\n",
    "\n",
    "Songoku.values()"
   ]
  },
  {
   "cell_type": "code",
   "execution_count": 18,
   "metadata": {},
   "outputs": [
    {
     "data": {
      "text/plain": [
       "dict_items([('nombre', 'SonGoku'), ('especie', 'Saiyan'), ('skill', 'comer')])"
      ]
     },
     "execution_count": 18,
     "metadata": {},
     "output_type": "execute_result"
    }
   ],
   "source": [
    "# items() lista los dos\n",
    "\n",
    "Songoku.items()"
   ]
  },
  {
   "cell_type": "code",
   "execution_count": 19,
   "metadata": {},
   "outputs": [
    {
     "data": {
      "text/plain": [
       "{'nombre': 'Krilin', 'especie': 'Humano'}"
      ]
     },
     "execution_count": 19,
     "metadata": {},
     "output_type": "execute_result"
    }
   ],
   "source": [
    "# pop() nos sirve para eliminar un registro desde su clave\n",
    "# vamos a salvar a Krilin...\n",
    "\n",
    "Krilin.pop('skill')\n",
    "Krilin"
   ]
  },
  {
   "cell_type": "code",
   "execution_count": 20,
   "metadata": {},
   "outputs": [
    {
     "data": {
      "text/plain": [
       "'Ya no puede hacer eso'"
      ]
     },
     "execution_count": 20,
     "metadata": {},
     "output_type": "execute_result"
    }
   ],
   "source": [
    "# pop() tambien admite un default\n",
    "\n",
    "Krilin.pop('skill','Ya no puede hacer eso')"
   ]
  },
  {
   "cell_type": "code",
   "execution_count": 21,
   "metadata": {},
   "outputs": [
    {
     "data": {
      "text/plain": [
       "{}"
      ]
     },
     "execution_count": 21,
     "metadata": {},
     "output_type": "execute_result"
    }
   ],
   "source": [
    "# clear() vacía el diccionario\n",
    "\n",
    "Krilin.clear()\n",
    "Krilin"
   ]
  },
  {
   "cell_type": "code",
   "execution_count": null,
   "metadata": {},
   "outputs": [],
   "source": []
  }
 ],
 "metadata": {
  "kernelspec": {
   "display_name": "Python 3",
   "language": "python",
   "name": "python3"
  },
  "language_info": {
   "codemirror_mode": {
    "name": "ipython",
    "version": 3
   },
   "file_extension": ".py",
   "mimetype": "text/x-python",
   "name": "python",
   "nbconvert_exporter": "python",
   "pygments_lexer": "ipython3",
   "version": "3.7.6"
  }
 },
 "nbformat": 4,
 "nbformat_minor": 4
}
