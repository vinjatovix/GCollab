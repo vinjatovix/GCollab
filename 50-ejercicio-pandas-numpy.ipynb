{
 "cells": [
  {
   "cell_type": "code",
   "execution_count": 1,
   "metadata": {},
   "outputs": [],
   "source": [
    "# 50 - Ejercicio práctico pandas & numpy"
   ]
  },
  {
   "cell_type": "code",
   "execution_count": 2,
   "metadata": {},
   "outputs": [
    {
     "output_type": "execute_result",
     "data": {
      "text/plain": "'\\nCrea tres aulas con un número aleatorio de alumnos.\\n\\nCrea una serie de clases y alumnos y utiliza el índice para saber los alumnos que hay en el aula 3\\n\\n'"
     },
     "metadata": {},
     "execution_count": 2
    }
   ],
   "source": [
    "'''\n",
    "Crea tres aulas con un número aleatorio de alumnos.\n",
    "\n",
    "Crea una serie de clases y alumnos y utiliza el índice para saber los alumnos que hay en el aula 3\n",
    "\n",
    "'''"
   ]
  },
  {
   "cell_type": "code",
   "execution_count": 3,
   "metadata": {},
   "outputs": [
    {
     "output_type": "stream",
     "name": "stdout",
     "text": "A     6\nB    25\nC    18\ndtype: int32\n"
    },
    {
     "output_type": "execute_result",
     "data": {
      "text/plain": "18"
     },
     "metadata": {},
     "execution_count": 3
    }
   ],
   "source": [
    "import pandas as pd\n",
    "import numpy as np\n",
    "\n",
    "aulas = list('ABC')\n",
    "alumnos = np.random.randint(1,31,3)\n",
    "\n",
    "serie = pd.Series(alumnos, index=aulas)\n",
    "serie\n",
    "\n",
    "print(serie)\n",
    "serie['C']\n"
   ]
  },
  {
   "cell_type": "code",
   "execution_count": null,
   "metadata": {},
   "outputs": [],
   "source": []
  }
 ],
 "metadata": {
  "kernelspec": {
   "display_name": "Python 3.8.2 64-bit",
   "language": "python",
   "name": "python38264bit0d89407e10104d4f89d7b40f85d57db9"
  },
  "language_info": {
   "codemirror_mode": {
    "name": "ipython",
    "version": 3
   },
   "file_extension": ".py",
   "mimetype": "text/x-python",
   "name": "python",
   "nbconvert_exporter": "python",
   "pygments_lexer": "ipython3",
   "version": "3.8.2-final"
  }
 },
 "nbformat": 4,
 "nbformat_minor": 4
}