{
 "cells": [
  {
   "cell_type": "code",
   "execution_count": 1,
   "metadata": {},
   "outputs": [],
   "source": [
    "# 25 ejercicio"
   ]
  },
  {
   "cell_type": "code",
   "execution_count": 2,
   "metadata": {},
   "outputs": [
    {
     "data": {
      "text/plain": [
       "{'manazana': 'apple',\n",
       " 'naranja': 'orange',\n",
       " 'platano': 'banana',\n",
       " 'limon': 'lemon'}"
      ]
     },
     "execution_count": 2,
     "metadata": {},
     "output_type": "execute_result"
    }
   ],
   "source": [
    "frutero = {'manazana':'apple','naranja':'orange','platano':'banana','limon':'lemon'}\n",
    "frutero"
   ]
  },
  {
   "cell_type": "code",
   "execution_count": 4,
   "metadata": {},
   "outputs": [
    {
     "name": "stdout",
     "output_type": "stream",
     "text": [
      "La palabra naranja se traduce como orange\n"
     ]
    }
   ],
   "source": [
    "trad = frutero['naranja']\n",
    "print(f'La palabra naranja se traduce como {trad}')"
   ]
  },
  {
   "cell_type": "code",
   "execution_count": 6,
   "metadata": {},
   "outputs": [
    {
     "data": {
      "text/plain": [
       "{'manazana': 'apple',\n",
       " 'naranja': 'orange',\n",
       " 'platano': 'banana',\n",
       " 'limon': 'lemon',\n",
       " 'pera': 'pear'}"
      ]
     },
     "execution_count": 6,
     "metadata": {},
     "output_type": "execute_result"
    }
   ],
   "source": [
    "frutero['pera']= 'pear'\n",
    "frutero"
   ]
  },
  {
   "cell_type": "code",
   "execution_count": 9,
   "metadata": {},
   "outputs": [
    {
     "name": "stdout",
     "output_type": "stream",
     "text": [
      "manazana apple\n",
      "naranja orange\n",
      "platano banana\n",
      "limon lemon\n",
      "pera pear\n"
     ]
    }
   ],
   "source": [
    "for fruta in frutero:\n",
    "    print(fruta,frutero[fruta])"
   ]
  },
  {
   "cell_type": "code",
   "execution_count": 18,
   "metadata": {},
   "outputs": [
    {
     "name": "stdout",
     "output_type": "stream",
     "text": [
      "manazana en inglés es apple\n",
      "naranja en inglés es orange\n",
      "platano en inglés es banana\n",
      "limon en inglés es lemon\n",
      "pera en inglés es pear\n"
     ]
    }
   ],
   "source": [
    "for clave,valor in frutero.items():\n",
    "    print('{} en inglés es {}'.format(clave,valor))"
   ]
  },
  {
   "cell_type": "code",
   "execution_count": null,
   "metadata": {},
   "outputs": [],
   "source": []
  }
 ],
 "metadata": {
  "kernelspec": {
   "display_name": "Python 3",
   "language": "python",
   "name": "python3"
  },
  "language_info": {
   "codemirror_mode": {
    "name": "ipython",
    "version": 3
   },
   "file_extension": ".py",
   "mimetype": "text/x-python",
   "name": "python",
   "nbconvert_exporter": "python",
   "pygments_lexer": "ipython3",
   "version": "3.7.6"
  }
 },
 "nbformat": 4,
 "nbformat_minor": 4
}
