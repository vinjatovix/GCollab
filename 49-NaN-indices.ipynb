{
 "cells": [
  {
   "cell_type": "code",
   "execution_count": null,
   "metadata": {},
   "outputs": [],
   "source": [
    "# 49 Valores Nulos - NaN"
   ]
  },
  {
   "cell_type": "code",
   "execution_count": null,
   "metadata": {},
   "outputs": [],
   "source": [
    "import pandas as pd\n",
    "import numpy as np\n",
    "\n",
    "valores = ['1','2',np.nan,'4']\n",
    "serie = pd.Series(valores, index=list('ABCD'))"
   ]
  },
  {
   "cell_type": "code",
   "execution_count": null,
   "metadata": {},
   "outputs": [],
   "source": [
    "# Como vemos C tiene valor nulo\n",
    "serie"
   ]
  },
  {
   "cell_type": "code",
   "execution_count": null,
   "metadata": {},
   "outputs": [],
   "source": [
    "# podemos verificar los nulos de toda la serie\n",
    "serie.isnull()"
   ]
  },
  {
   "cell_type": "code",
   "execution_count": null,
   "metadata": {},
   "outputs": [],
   "source": [
    "# Eliminar valores nulos\n",
    "serie.dropna()"
   ]
  },
  {
   "cell_type": "code",
   "execution_count": null,
   "metadata": {},
   "outputs": [],
   "source": [
    "# vamos a ver como funciona en un dataframe\n",
    "\n",
    "valores2 = [[1,2,3],[4,np.nan,5],[6,7,np.nan]]\n",
    "indices2 = list('123')\n",
    "columnas2 = list('ABC')\n",
    "dataframe = pd.DataFrame(valores2, index=indices2, columns=columnas2)\n",
    "\n",
    "dataframe.isnull()"
   ]
  },
  {
   "cell_type": "code",
   "execution_count": null,
   "metadata": {},
   "outputs": [],
   "source": [
    "dataframe"
   ]
  },
  {
   "cell_type": "code",
   "execution_count": null,
   "metadata": {},
   "outputs": [],
   "source": [
    "# Como veis se carga cualquier indice que tenga nulos\n",
    "dataframe.dropna()"
   ]
  },
  {
   "cell_type": "code",
   "execution_count": null,
   "metadata": {},
   "outputs": [],
   "source": [
    "# podemos rellenar los nulos con un 0 por ejemplo\n",
    "dataframe.fillna(0)"
   ]
  },
  {
   "cell_type": "code",
   "execution_count": 1,
   "metadata": {},
   "outputs": [],
   "source": [
    "# jerarquía en los índices"
   ]
  },
  {
   "cell_type": "code",
   "execution_count": 2,
   "metadata": {},
   "outputs": [],
   "source": [
    "import pandas as pd\n",
    "import numpy as np"
   ]
  },
  {
   "cell_type": "code",
   "execution_count": 3,
   "metadata": {},
   "outputs": [
    {
     "output_type": "execute_result",
     "data": {
      "text/plain": "1  A    0.008193\n   B    0.960456\n   C    0.772167\n2  A    0.242989\n   B    0.729503\n   C    0.271735\ndtype: float64"
     },
     "metadata": {},
     "execution_count": 3
    }
   ],
   "source": [
    "# Aqui vemos una serie con dos índices\n",
    "\n",
    "valores = np.random.rand(6)\n",
    "indices = [[1,1,1,2,2,2],list('ABCABC')]\n",
    "\n",
    "serie = pd.Series(valores, index=indices)\n",
    "serie"
   ]
  },
  {
   "cell_type": "code",
   "execution_count": 4,
   "metadata": {},
   "outputs": [
    {
     "output_type": "execute_result",
     "data": {
      "text/plain": "A    0.008193\nB    0.960456\nC    0.772167\ndtype: float64"
     },
     "metadata": {},
     "execution_count": 4
    }
   ],
   "source": [
    "# podemos acceder a todo el indice 1 por ejemplo\n",
    "\n",
    "serie[1]"
   ]
  },
  {
   "cell_type": "code",
   "execution_count": 5,
   "metadata": {},
   "outputs": [
    {
     "output_type": "execute_result",
     "data": {
      "text/plain": "0.7295033027451628"
     },
     "metadata": {},
     "execution_count": 5
    }
   ],
   "source": [
    "# o a un valor concreto del indice 2\n",
    "serie[2]['B']"
   ]
  },
  {
   "cell_type": "code",
   "execution_count": 6,
   "metadata": {},
   "outputs": [
    {
     "output_type": "execute_result",
     "data": {
      "text/plain": "          A         B         C\n1  0.008193  0.960456  0.772167\n2  0.242989  0.729503  0.271735",
      "text/html": "<div>\n<style scoped>\n    .dataframe tbody tr th:only-of-type {\n        vertical-align: middle;\n    }\n\n    .dataframe tbody tr th {\n        vertical-align: top;\n    }\n\n    .dataframe thead th {\n        text-align: right;\n    }\n</style>\n<table border=\"1\" class=\"dataframe\">\n  <thead>\n    <tr style=\"text-align: right;\">\n      <th></th>\n      <th>A</th>\n      <th>B</th>\n      <th>C</th>\n    </tr>\n  </thead>\n  <tbody>\n    <tr>\n      <th>1</th>\n      <td>0.008193</td>\n      <td>0.960456</td>\n      <td>0.772167</td>\n    </tr>\n    <tr>\n      <th>2</th>\n      <td>0.242989</td>\n      <td>0.729503</td>\n      <td>0.271735</td>\n    </tr>\n  </tbody>\n</table>\n</div>"
     },
     "metadata": {},
     "execution_count": 6
    }
   ],
   "source": [
    "# con unstack podemos dividir los indices e un dataframe\n",
    "dataframe = serie.unstack()\n",
    "dataframe"
   ]
  },
  {
   "cell_type": "code",
   "execution_count": 7,
   "metadata": {},
   "outputs": [
    {
     "output_type": "execute_result",
     "data": {
      "text/plain": "    A   B   C   D\n1   0   1   2   3\n2   4   5   6   7\n3   8   9  10  11\n4  12  13  14  15",
      "text/html": "<div>\n<style scoped>\n    .dataframe tbody tr th:only-of-type {\n        vertical-align: middle;\n    }\n\n    .dataframe tbody tr th {\n        vertical-align: top;\n    }\n\n    .dataframe thead th {\n        text-align: right;\n    }\n</style>\n<table border=\"1\" class=\"dataframe\">\n  <thead>\n    <tr style=\"text-align: right;\">\n      <th></th>\n      <th>A</th>\n      <th>B</th>\n      <th>C</th>\n      <th>D</th>\n    </tr>\n  </thead>\n  <tbody>\n    <tr>\n      <th>1</th>\n      <td>0</td>\n      <td>1</td>\n      <td>2</td>\n      <td>3</td>\n    </tr>\n    <tr>\n      <th>2</th>\n      <td>4</td>\n      <td>5</td>\n      <td>6</td>\n      <td>7</td>\n    </tr>\n    <tr>\n      <th>3</th>\n      <td>8</td>\n      <td>9</td>\n      <td>10</td>\n      <td>11</td>\n    </tr>\n    <tr>\n      <th>4</th>\n      <td>12</td>\n      <td>13</td>\n      <td>14</td>\n      <td>15</td>\n    </tr>\n  </tbody>\n</table>\n</div>"
     },
     "metadata": {},
     "execution_count": 7
    }
   ],
   "source": [
    "# y viceversa\n",
    "\n",
    "valores = np.arange(16).reshape(4,4)\n",
    "indices = list('1234')\n",
    "columnas = list('ABCD')\n",
    "dataframe = pd.DataFrame(valores, index=indices, columns=columnas)\n",
    "dataframe"
   ]
  },
  {
   "cell_type": "code",
   "execution_count": 8,
   "metadata": {},
   "outputs": [
    {
     "output_type": "execute_result",
     "data": {
      "text/plain": "1  A     0\n   B     1\n   C     2\n   D     3\n2  A     4\n   B     5\n   C     6\n   D     7\n3  A     8\n   B     9\n   C    10\n   D    11\n4  A    12\n   B    13\n   C    14\n   D    15\ndtype: int32"
     },
     "metadata": {},
     "execution_count": 8
    }
   ],
   "source": [
    "serie2 = dataframe.stack()\n",
    "serie2"
   ]
  },
  {
   "cell_type": "code",
   "execution_count": null,
   "metadata": {},
   "outputs": [],
   "source": []
  },
  {
   "cell_type": "code",
   "execution_count": null,
   "metadata": {},
   "outputs": [],
   "source": []
  }
 ],
 "metadata": {
  "kernelspec": {
   "display_name": "Python 3.8.2 64-bit",
   "language": "python",
   "name": "python38264bit0d89407e10104d4f89d7b40f85d57db9"
  },
  "language_info": {
   "codemirror_mode": {
    "name": "ipython",
    "version": 3
   },
   "file_extension": ".py",
   "mimetype": "text/x-python",
   "name": "python",
   "nbconvert_exporter": "python",
   "pygments_lexer": "ipython3",
   "version": "3.8.2-final"
  }
 },
 "nbformat": 4,
 "nbformat_minor": 4
}