{
 "cells": [
  {
   "cell_type": "markdown",
   "metadata": {},
   "source": [
    "# Ejercicio simula un dado de 6 en la consola\n",
    "\n",
    "el programa tiene que ofrecer la vista de la cara de un dado de 6 \n",
    "y preguntar si deseamos tirar de nuevo\n"
   ]
  },
  {
   "cell_type": "code",
   "execution_count": 1,
   "metadata": {},
   "outputs": [],
   "source": [
    "import random"
   ]
  },
  {
   "cell_type": "code",
   "execution_count": 2,
   "metadata": {},
   "outputs": [],
   "source": [
    "end = '(-------)'\n",
    "nada = '(       )'\n",
    "uno = '(   0   )'\n",
    "dos = '(  0 0  )'"
   ]
  },
  {
   "cell_type": "code",
   "execution_count": 3,
   "metadata": {},
   "outputs": [],
   "source": [
    "def d1():\n",
    "    print('\\n',end,'\\n',nada,'\\n',uno,'\\n',nada,'\\n',end)\n",
    "    \n",
    "def d2():\n",
    "    print('\\n',end,'\\n',nada,'\\n',dos,'\\n',nada,'\\n',end)\n",
    "    \n",
    "def d3():\n",
    "    print('\\n',end,'\\n',uno,'\\n',uno,'\\n',uno,'\\n',end)\n",
    "    \n",
    "def d4():\n",
    "    print('\\n',end,'\\n',dos,'\\n',nada,'\\n',dos,'\\n',end)\n",
    "    \n",
    "def d5():\n",
    "    print('\\n',end,'\\n',dos,'\\n',uno,'\\n',dos,'\\n',end)\n",
    "    \n",
    "def d6():\n",
    "    print('\\n',end,'\\n',dos,'\\n',dos,'\\n',dos,'\\n',end)"
   ]
  },
  {
   "cell_type": "code",
   "execution_count": 4,
   "metadata": {},
   "outputs": [],
   "source": [
    "def tirar():\n",
    "    x = random.randint(1,6)\n",
    "    if x == 1:\n",
    "        d1()\n",
    "    elif x == 2:\n",
    "        d2()\n",
    "    elif x == 3:\n",
    "        d3()\n",
    "    elif x == 4:\n",
    "        d4()\n",
    "    elif x == 5:\n",
    "        d5()\n",
    "    else:\n",
    "        d6()"
   ]
  },
  {
   "cell_type": "code",
   "execution_count": 5,
   "metadata": {},
   "outputs": [],
   "source": [
    "def dado6():\n",
    "    i = 0\n",
    "    while i == 0:\n",
    "        tirar()\n",
    "        repeat = input('¿quieres tirar de nuevo?: y/n ')\n",
    "        if repeat != 'y':\n",
    "            print('Gracias por jugar')\n",
    "            i = 1\n",
    "        \n",
    "        "
   ]
  },
  {
   "cell_type": "code",
   "execution_count": null,
   "metadata": {},
   "outputs": [
    {
     "name": "stdout",
     "output_type": "stream",
     "text": [
      "\n",
      " (-------) \n",
      " (  0 0  ) \n",
      " (  0 0  ) \n",
      " (  0 0  ) \n",
      " (-------)\n",
      "¿quieres tirar de nuevo?: y/n y\n",
      "\n",
      " (-------) \n",
      " (  0 0  ) \n",
      " (       ) \n",
      " (  0 0  ) \n",
      " (-------)\n",
      "¿quieres tirar de nuevo?: y/n y\n",
      "\n",
      " (-------) \n",
      " (  0 0  ) \n",
      " (       ) \n",
      " (  0 0  ) \n",
      " (-------)\n",
      "¿quieres tirar de nuevo?: y/n y\n",
      "\n",
      " (-------) \n",
      " (  0 0  ) \n",
      " (   0   ) \n",
      " (  0 0  ) \n",
      " (-------)\n",
      "¿quieres tirar de nuevo?: y/n y\n",
      "\n",
      " (-------) \n",
      " (  0 0  ) \n",
      " (   0   ) \n",
      " (  0 0  ) \n",
      " (-------)\n",
      "¿quieres tirar de nuevo?: y/n y\n",
      "\n",
      " (-------) \n",
      " (       ) \n",
      " (   0   ) \n",
      " (       ) \n",
      " (-------)\n",
      "¿quieres tirar de nuevo?: y/n y\n",
      "\n",
      " (-------) \n",
      " (   0   ) \n",
      " (   0   ) \n",
      " (   0   ) \n",
      " (-------)\n"
     ]
    }
   ],
   "source": [
    "dado6()"
   ]
  },
  {
   "cell_type": "code",
   "execution_count": null,
   "metadata": {},
   "outputs": [],
   "source": []
  },
  {
   "cell_type": "code",
   "execution_count": null,
   "metadata": {},
   "outputs": [],
   "source": []
  },
  {
   "cell_type": "raw",
   "metadata": {},
   "source": []
  }
 ],
 "metadata": {
  "kernelspec": {
   "display_name": "Python 3.8.2 64-bit",
   "language": "python",
   "name": "python38264bit0d89407e10104d4f89d7b40f85d57db9"
  },
  "language_info": {
   "codemirror_mode": {
    "name": "ipython",
    "version": 3
   },
   "file_extension": ".py",
   "mimetype": "text/x-python",
   "name": "python",
   "nbconvert_exporter": "python",
   "pygments_lexer": "ipython3",
   "version": "3.8.2"
  }
 },
 "nbformat": 4,
 "nbformat_minor": 4
}
