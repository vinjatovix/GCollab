{
 "cells": [
  {
   "cell_type": "code",
   "execution_count": 1,
   "metadata": {},
   "outputs": [],
   "source": [
    "# 51 html con python"
   ]
  },
  {
   "cell_type": "code",
   "execution_count": 1,
   "metadata": {},
   "outputs": [],
   "source": [
    "# voy a capturar una tabla de informacion de una página web\n",
    "\n",
    "import pandas as pd\n",
    "\n",
    "url = 'https://es.wikipedia.org/wiki/Akira_Kurosawa'"
   ]
  },
  {
   "cell_type": "code",
   "execution_count": 2,
   "metadata": {},
   "outputs": [
    {
     "data": {
      "text/plain": [
       "[    0                                                  1\n",
       " 0 NaN  Este artículo tiene referencias, pero necesita...,\n",
       "                 Akira Kurosawa  \\\n",
       " 0       Akira Kurosawa en 1953   \n",
       " 1         Información personal   \n",
       " 2         Nombre de nacimiento   \n",
       " 3            Nombre en japonés   \n",
       " 4                Otros nombres   \n",
       " 5                   Nacimiento   \n",
       " 6                Fallecimiento   \n",
       " 7           Causa de la muerte   \n",
       " 8                   Residencia   \n",
       " 9                 Nacionalidad   \n",
       " 10              Lengua materna   \n",
       " 11                     Familia   \n",
       " 12                     Cónyuge   \n",
       " 13                       Hijos   \n",
       " 14     Información profesional   \n",
       " 15                   Ocupación   \n",
       " 16                 Años activo   \n",
       " 17                   Seudónimo   \n",
       " 18              Obras notables   \n",
       " 19                  Miembro de   \n",
       " 20  [editar datos en Wikidata]   \n",
       " \n",
       "                                      Akira Kurosawa.1  \\\n",
       " 0                              Akira Kurosawa en 1953   \n",
       " 1                                Información personal   \n",
       " 2                                      Kurosawa Akira   \n",
       " 3                                                 黒澤明   \n",
       " 4                                        El Emperador   \n",
       " 5               23 de marzo de 1910 Shinagawa (Japón)   \n",
       " 6   6 de septiembre de 1998 (88 años)Setagaya (Japón)   \n",
       " 7                                    Derrame cerebral   \n",
       " 8                                               Japón   \n",
       " 9                                            Japonesa   \n",
       " 10                                            Japonés   \n",
       " 11                                            Familia   \n",
       " 12                           Yōko Yaguchi (1945-1985)   \n",
       " 13                                        KazukoHisao   \n",
       " 14                            Información profesional   \n",
       " 15  Director de cine, productor de cine, guionista...   \n",
       " 16                                          1936-1993   \n",
       " 17                                                 AK   \n",
       " 18  La fortaleza escondidaRashōmonLos siete samurá...   \n",
       " 19  Academia Estadounidense de las Artes y las Cie...   \n",
       " 20                         [editar datos en Wikidata]   \n",
       " \n",
       "                                      Akira Kurosawa.2  \n",
       " 0                              Akira Kurosawa en 1953  \n",
       " 1                                Información personal  \n",
       " 2                                      Kurosawa Akira  \n",
       " 3                                                 黒澤明  \n",
       " 4                                        El Emperador  \n",
       " 5               23 de marzo de 1910 Shinagawa (Japón)  \n",
       " 6   6 de septiembre de 1998 (88 años)Setagaya (Japón)  \n",
       " 7                                    Derrame cerebral  \n",
       " 8                                               Japón  \n",
       " 9                                            Japonesa  \n",
       " 10                                            Japonés  \n",
       " 11                                            Familia  \n",
       " 12                           Yōko Yaguchi (1945-1985)  \n",
       " 13                                        KazukoHisao  \n",
       " 14                            Información profesional  \n",
       " 15  Director de cine, productor de cine, guionista...  \n",
       " 16                                          1936-1993  \n",
       " 17                                                 AK  \n",
       " 18  La fortaleza escondidaRashōmonLos siete samurá...  \n",
       " 19  Academia Estadounidense de las Artes y las Cie...  \n",
       " 20                         [editar datos en Wikidata]  ,\n",
       "     Año                             Categoría          Película  Resultado\n",
       " 0  1951  Óscar a la mejor película extranjera          Rashōmon    Ganador\n",
       " 1  1975  Óscar a la mejor película extranjera       Dersu Uzala    Ganador\n",
       " 2  1985               Óscar al mejor director               Ran  Candidato\n",
       " 3  1990                      Óscar Honorífico  Óscar Honorífico    Ganador,\n",
       "                         0                                                  1\n",
       " 0  Control de autoridades  Proyectos Wikimedia  Datos: Q8006  Multimedia:...]"
      ]
     },
     "execution_count": 2,
     "metadata": {},
     "output_type": "execute_result"
    }
   ],
   "source": [
    "df_Kurosawa = pd.io.html.read_html(url)\n",
    "df_Kurosawa"
   ]
  },
  {
   "cell_type": "code",
   "execution_count": 3,
   "metadata": {},
   "outputs": [
    {
     "data": {
      "text/html": [
       "<div>\n",
       "<style scoped>\n",
       "    .dataframe tbody tr th:only-of-type {\n",
       "        vertical-align: middle;\n",
       "    }\n",
       "\n",
       "    .dataframe tbody tr th {\n",
       "        vertical-align: top;\n",
       "    }\n",
       "\n",
       "    .dataframe thead th {\n",
       "        text-align: right;\n",
       "    }\n",
       "</style>\n",
       "<table border=\"1\" class=\"dataframe\">\n",
       "  <thead>\n",
       "    <tr style=\"text-align: right;\">\n",
       "      <th></th>\n",
       "      <th>Año</th>\n",
       "      <th>Categoría</th>\n",
       "      <th>Película</th>\n",
       "      <th>Resultado</th>\n",
       "    </tr>\n",
       "  </thead>\n",
       "  <tbody>\n",
       "    <tr>\n",
       "      <th>0</th>\n",
       "      <td>1951</td>\n",
       "      <td>Óscar a la mejor película extranjera</td>\n",
       "      <td>Rashōmon</td>\n",
       "      <td>Ganador</td>\n",
       "    </tr>\n",
       "    <tr>\n",
       "      <th>1</th>\n",
       "      <td>1975</td>\n",
       "      <td>Óscar a la mejor película extranjera</td>\n",
       "      <td>Dersu Uzala</td>\n",
       "      <td>Ganador</td>\n",
       "    </tr>\n",
       "    <tr>\n",
       "      <th>2</th>\n",
       "      <td>1985</td>\n",
       "      <td>Óscar al mejor director</td>\n",
       "      <td>Ran</td>\n",
       "      <td>Candidato</td>\n",
       "    </tr>\n",
       "    <tr>\n",
       "      <th>3</th>\n",
       "      <td>1990</td>\n",
       "      <td>Óscar Honorífico</td>\n",
       "      <td>Óscar Honorífico</td>\n",
       "      <td>Ganador</td>\n",
       "    </tr>\n",
       "  </tbody>\n",
       "</table>\n",
       "</div>"
      ],
      "text/plain": [
       "    Año                             Categoría          Película  Resultado\n",
       "0  1951  Óscar a la mejor película extranjera          Rashōmon    Ganador\n",
       "1  1975  Óscar a la mejor película extranjera       Dersu Uzala    Ganador\n",
       "2  1985               Óscar al mejor director               Ran  Candidato\n",
       "3  1990                      Óscar Honorífico  Óscar Honorífico    Ganador"
      ]
     },
     "execution_count": 3,
     "metadata": {},
     "output_type": "execute_result"
    }
   ],
   "source": [
    "# La tabla a la que quiero acceder en realidad esta en el indice 2\n",
    "\n",
    "df_KurosawaPremios = df_Kurosawa[2]\n",
    "df_KurosawaPremios"
   ]
  },
  {
   "cell_type": "code",
   "execution_count": 4,
   "metadata": {},
   "outputs": [],
   "source": [
    "# Pero puede darse el caso de que el dataframe de la pagina nos devuelva así la información"
   ]
  },
  {
   "cell_type": "code",
   "execution_count": 5,
   "metadata": {},
   "outputs": [
    {
     "data": {
      "text/html": [
       "<div>\n",
       "<style scoped>\n",
       "    .dataframe tbody tr th:only-of-type {\n",
       "        vertical-align: middle;\n",
       "    }\n",
       "\n",
       "    .dataframe tbody tr th {\n",
       "        vertical-align: top;\n",
       "    }\n",
       "\n",
       "    .dataframe thead th {\n",
       "        text-align: right;\n",
       "    }\n",
       "</style>\n",
       "<table border=\"1\" class=\"dataframe\">\n",
       "  <thead>\n",
       "    <tr style=\"text-align: right;\">\n",
       "      <th></th>\n",
       "      <th>0</th>\n",
       "      <th>1</th>\n",
       "      <th>2</th>\n",
       "    </tr>\n",
       "  </thead>\n",
       "  <tbody>\n",
       "    <tr>\n",
       "      <th>0</th>\n",
       "      <td>Nombre</td>\n",
       "      <td>Edad</td>\n",
       "      <td>Profesión</td>\n",
       "    </tr>\n",
       "    <tr>\n",
       "      <th>1</th>\n",
       "      <td>Ricardo Borriquero</td>\n",
       "      <td>13</td>\n",
       "      <td>Niño Rata</td>\n",
       "    </tr>\n",
       "    <tr>\n",
       "      <th>2</th>\n",
       "      <td>Benito Camelas</td>\n",
       "      <td>37</td>\n",
       "      <td>Pelotari</td>\n",
       "    </tr>\n",
       "    <tr>\n",
       "      <th>3</th>\n",
       "      <td>Carmelo Cottón</td>\n",
       "      <td>42</td>\n",
       "      <td>Contemplador</td>\n",
       "    </tr>\n",
       "  </tbody>\n",
       "</table>\n",
       "</div>"
      ],
      "text/plain": [
       "                    0     1             2\n",
       "0              Nombre  Edad     Profesión\n",
       "1  Ricardo Borriquero    13     Niño Rata\n",
       "2      Benito Camelas    37      Pelotari\n",
       "3      Carmelo Cottón    42  Contemplador"
      ]
     },
     "execution_count": 5,
     "metadata": {},
     "output_type": "execute_result"
    }
   ],
   "source": [
    "valores = [['Nombre','Edad','Profesión'],\n",
    "           ['Ricardo Borriquero',13,'Niño Rata'],\n",
    "           ['Benito Camelas',37,'Pelotari'],\n",
    "           ['Carmelo Cottón',42,'Contemplador']]\n",
    "df = pd.DataFrame(valores, index=list(range(4)), columns=list(range(3)))\n",
    "df"
   ]
  },
  {
   "cell_type": "code",
   "execution_count": 6,
   "metadata": {},
   "outputs": [
    {
     "data": {
      "text/plain": [
       "{0: 'Nombre', 1: 'Edad', 2: 'Profesión'}"
      ]
     },
     "execution_count": 6,
     "metadata": {},
     "output_type": "execute_result"
    }
   ],
   "source": [
    "# Cómo hacemos para que los valores del índice 0 pasen a ser los nombres de las columnas?\n",
    "# localizamos el indice y lo convertimos en un dicionario para que tenga clave y valor.\n",
    "\n",
    "dict(df.loc[0])\n"
   ]
  },
  {
   "cell_type": "code",
   "execution_count": 7,
   "metadata": {},
   "outputs": [
    {
     "data": {
      "text/html": [
       "<div>\n",
       "<style scoped>\n",
       "    .dataframe tbody tr th:only-of-type {\n",
       "        vertical-align: middle;\n",
       "    }\n",
       "\n",
       "    .dataframe tbody tr th {\n",
       "        vertical-align: top;\n",
       "    }\n",
       "\n",
       "    .dataframe thead th {\n",
       "        text-align: right;\n",
       "    }\n",
       "</style>\n",
       "<table border=\"1\" class=\"dataframe\">\n",
       "  <thead>\n",
       "    <tr style=\"text-align: right;\">\n",
       "      <th></th>\n",
       "      <th>Nombre</th>\n",
       "      <th>Edad</th>\n",
       "      <th>Profesión</th>\n",
       "    </tr>\n",
       "  </thead>\n",
       "  <tbody>\n",
       "    <tr>\n",
       "      <th>0</th>\n",
       "      <td>Nombre</td>\n",
       "      <td>Edad</td>\n",
       "      <td>Profesión</td>\n",
       "    </tr>\n",
       "    <tr>\n",
       "      <th>1</th>\n",
       "      <td>Ricardo Borriquero</td>\n",
       "      <td>13</td>\n",
       "      <td>Niño Rata</td>\n",
       "    </tr>\n",
       "    <tr>\n",
       "      <th>2</th>\n",
       "      <td>Benito Camelas</td>\n",
       "      <td>37</td>\n",
       "      <td>Pelotari</td>\n",
       "    </tr>\n",
       "    <tr>\n",
       "      <th>3</th>\n",
       "      <td>Carmelo Cottón</td>\n",
       "      <td>42</td>\n",
       "      <td>Contemplador</td>\n",
       "    </tr>\n",
       "  </tbody>\n",
       "</table>\n",
       "</div>"
      ],
      "text/plain": [
       "               Nombre  Edad     Profesión\n",
       "0              Nombre  Edad     Profesión\n",
       "1  Ricardo Borriquero    13     Niño Rata\n",
       "2      Benito Camelas    37      Pelotari\n",
       "3      Carmelo Cottón    42  Contemplador"
      ]
     },
     "execution_count": 7,
     "metadata": {},
     "output_type": "execute_result"
    }
   ],
   "source": [
    "# ahora ya si podemos cambiar el nombre a las columnas\n",
    "\n",
    "df = df.rename(columns=dict(df.loc[0]))\n",
    "df"
   ]
  },
  {
   "cell_type": "code",
   "execution_count": 8,
   "metadata": {},
   "outputs": [
    {
     "data": {
      "text/html": [
       "<div>\n",
       "<style scoped>\n",
       "    .dataframe tbody tr th:only-of-type {\n",
       "        vertical-align: middle;\n",
       "    }\n",
       "\n",
       "    .dataframe tbody tr th {\n",
       "        vertical-align: top;\n",
       "    }\n",
       "\n",
       "    .dataframe thead th {\n",
       "        text-align: right;\n",
       "    }\n",
       "</style>\n",
       "<table border=\"1\" class=\"dataframe\">\n",
       "  <thead>\n",
       "    <tr style=\"text-align: right;\">\n",
       "      <th></th>\n",
       "      <th>Nombre</th>\n",
       "      <th>Edad</th>\n",
       "      <th>Profesión</th>\n",
       "    </tr>\n",
       "  </thead>\n",
       "  <tbody>\n",
       "    <tr>\n",
       "      <th>1</th>\n",
       "      <td>Ricardo Borriquero</td>\n",
       "      <td>13</td>\n",
       "      <td>Niño Rata</td>\n",
       "    </tr>\n",
       "    <tr>\n",
       "      <th>2</th>\n",
       "      <td>Benito Camelas</td>\n",
       "      <td>37</td>\n",
       "      <td>Pelotari</td>\n",
       "    </tr>\n",
       "    <tr>\n",
       "      <th>3</th>\n",
       "      <td>Carmelo Cottón</td>\n",
       "      <td>42</td>\n",
       "      <td>Contemplador</td>\n",
       "    </tr>\n",
       "  </tbody>\n",
       "</table>\n",
       "</div>"
      ],
      "text/plain": [
       "               Nombre Edad     Profesión\n",
       "1  Ricardo Borriquero   13     Niño Rata\n",
       "2      Benito Camelas   37      Pelotari\n",
       "3      Carmelo Cottón   42  Contemplador"
      ]
     },
     "execution_count": 8,
     "metadata": {},
     "output_type": "execute_result"
    }
   ],
   "source": [
    "# Habrá que recoger los restos...\n",
    "\n",
    "df = df.drop(0)\n",
    "df"
   ]
  },
  {
   "cell_type": "code",
   "execution_count": null,
   "metadata": {},
   "outputs": [],
   "source": []
  }
 ],
 "metadata": {
  "kernelspec": {
   "display_name": "Python 3.8.2 64-bit",
   "language": "python",
   "name": "python38264bit0d89407e10104d4f89d7b40f85d57db9"
  },
  "language_info": {
   "codemirror_mode": {
    "name": "ipython",
    "version": 3
   },
   "file_extension": ".py",
   "mimetype": "text/x-python",
   "name": "python",
   "nbconvert_exporter": "python",
   "pygments_lexer": "ipython3",
   "version": "3.8.2"
  }
 },
 "nbformat": 4,
 "nbformat_minor": 4
}
