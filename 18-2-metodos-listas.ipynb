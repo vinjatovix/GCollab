{
 "cells": [
  {
   "cell_type": "code",
   "execution_count": 1,
   "metadata": {},
   "outputs": [],
   "source": [
    "# Métodos de las listas"
   ]
  },
  {
   "cell_type": "code",
   "execution_count": 2,
   "metadata": {},
   "outputs": [
    {
     "data": {
      "text/plain": [
       "['lacón', 'grelos', 'patata', 'garbanzos']"
      ]
     },
     "execution_count": 2,
     "metadata": {},
     "output_type": "execute_result"
    }
   ],
   "source": [
    "# append() Añadir un item al final de la lista\n",
    "lista = ['lacón','grelos','patata']\n",
    "lista.append('garbanzos')\n",
    "lista"
   ]
  },
  {
   "cell_type": "code",
   "execution_count": 3,
   "metadata": {},
   "outputs": [
    {
     "data": {
      "text/plain": [
       "[]"
      ]
     },
     "execution_count": 3,
     "metadata": {},
     "output_type": "execute_result"
    }
   ],
   "source": [
    "# clear()  Vaciar la lista\n",
    "lista.clear()\n",
    "lista\n"
   ]
  },
  {
   "cell_type": "code",
   "execution_count": 4,
   "metadata": {},
   "outputs": [
    {
     "data": {
      "text/plain": [
       "['lacón',\n",
       " 'grelos',\n",
       " 'patata',\n",
       " 'garbanzos',\n",
       " 'Crema de Orujo',\n",
       " 'Licor Café',\n",
       " 'Tostada',\n",
       " 'Blanca',\n",
       " 'Licor Café']"
      ]
     },
     "execution_count": 4,
     "metadata": {},
     "output_type": "execute_result"
    }
   ],
   "source": [
    "# extend() Añadir una lista a otra\n",
    "lista = ['lacón','grelos','patata','garbanzos']\n",
    "lista2 = ['Crema de Orujo','Licor Café','Tostada','Blanca','Licor Café']\n",
    "lista.extend(lista2)\n",
    "lista\n"
   ]
  },
  {
   "cell_type": "code",
   "execution_count": 5,
   "metadata": {},
   "outputs": [
    {
     "data": {
      "text/plain": [
       "2"
      ]
     },
     "execution_count": 5,
     "metadata": {},
     "output_type": "execute_result"
    }
   ],
   "source": [
    "# count() cuenta el numero de veces que aparece un item\n",
    "lista.count('Licor Café')"
   ]
  },
  {
   "cell_type": "code",
   "execution_count": 6,
   "metadata": {},
   "outputs": [
    {
     "data": {
      "text/plain": [
       "6"
      ]
     },
     "execution_count": 6,
     "metadata": {},
     "output_type": "execute_result"
    }
   ],
   "source": [
    "# index() nos dice la posicion de un item (ni no existe da error)\n",
    "lista.index('Tostada')"
   ]
  },
  {
   "cell_type": "code",
   "execution_count": 7,
   "metadata": {},
   "outputs": [
    {
     "data": {
      "text/plain": [
       "['costilla',\n",
       " 'lacón',\n",
       " 'grelos',\n",
       " 'patata',\n",
       " 'garbanzos',\n",
       " 'Crema de Orujo',\n",
       " 'Licor Café',\n",
       " 'Tostada',\n",
       " 'Blanca',\n",
       " 'Licor Café']"
      ]
     },
     "execution_count": 7,
     "metadata": {},
     "output_type": "execute_result"
    }
   ],
   "source": [
    "# insert() Agrega un item en una posicion específica\n",
    "lista.insert(0,'costilla')\n",
    "lista"
   ]
  },
  {
   "cell_type": "code",
   "execution_count": 8,
   "metadata": {},
   "outputs": [
    {
     "data": {
      "text/plain": [
       "['costilla',\n",
       " 'lacón',\n",
       " 'grelos',\n",
       " 'patata',\n",
       " 'garbanzos',\n",
       " 'Crema de Orujo',\n",
       " 'Licor Café',\n",
       " 'Tostada',\n",
       " 'Licor Café',\n",
       " 'Blanca',\n",
       " 'Licor Café']"
      ]
     },
     "execution_count": 8,
     "metadata": {},
     "output_type": "execute_result"
    }
   ],
   "source": [
    "# insert() si ponemos la posicion en negativo empieza por el final\n",
    "lista.insert(-2,'Licor Café')\n",
    "lista"
   ]
  },
  {
   "cell_type": "code",
   "execution_count": 9,
   "metadata": {},
   "outputs": [
    {
     "data": {
      "text/plain": [
       "['costilla',\n",
       " 'lacón',\n",
       " 'grelos',\n",
       " 'patata',\n",
       " 'garbanzos',\n",
       " 'Crema de Orujo',\n",
       " 'Licor Café',\n",
       " 'Tostada',\n",
       " 'Licor Café',\n",
       " 'Blanca',\n",
       " 'Licor Café',\n",
       " 'Foliada']"
      ]
     },
     "execution_count": 9,
     "metadata": {},
     "output_type": "execute_result"
    }
   ],
   "source": [
    "# insert() si quisieramos ponerlo de ultimo en bruto podriamos hacer\n",
    "lista.insert(len(lista),'Foliada')\n",
    "lista"
   ]
  },
  {
   "cell_type": "code",
   "execution_count": 10,
   "metadata": {},
   "outputs": [
    {
     "data": {
      "text/plain": [
       "[1, 6, 3, 4, 2, 6, 25, 78, 4]"
      ]
     },
     "execution_count": 10,
     "metadata": {},
     "output_type": "execute_result"
    }
   ],
   "source": [
    "# Una posicion fuera de rango también lo añade al final \n",
    "lista.clear()\n",
    "lista = [1,6,3,4,2,6,25,78]\n",
    "lista.insert(999,4)\n",
    "lista"
   ]
  },
  {
   "cell_type": "code",
   "execution_count": 11,
   "metadata": {},
   "outputs": [
    {
     "name": "stdout",
     "output_type": "stream",
     "text": [
      "6\n",
      "[1, 3, 4, 2, 6, 25, 78, 4]\n"
     ]
    }
   ],
   "source": [
    "# pop(), que nos permite borrar el elemento en la lista\n",
    "print(lista.pop(1))\n",
    "print(lista)"
   ]
  },
  {
   "cell_type": "code",
   "execution_count": 12,
   "metadata": {},
   "outputs": [
    {
     "data": {
      "text/plain": [
       "[1, 3, 2, 6, 25, 78, 4]"
      ]
     },
     "execution_count": 12,
     "metadata": {},
     "output_type": "execute_result"
    }
   ],
   "source": [
    "# remove() Borra el primer item que encuentre con el valor que le damos\n",
    "lista.remove(4)\n",
    "lista"
   ]
  },
  {
   "cell_type": "code",
   "execution_count": 13,
   "metadata": {},
   "outputs": [
    {
     "data": {
      "text/plain": [
       "[4, 78, 25, 6, 2, 3, 1]"
      ]
     },
     "execution_count": 13,
     "metadata": {},
     "output_type": "execute_result"
    }
   ],
   "source": [
    "# reverse() invierte el orden\n",
    "lista.reverse()\n",
    "lista"
   ]
  },
  {
   "cell_type": "code",
   "execution_count": 14,
   "metadata": {},
   "outputs": [
    {
     "data": {
      "text/plain": [
       "[1, 2, 3, 4, 6, 25, 78]"
      ]
     },
     "execution_count": 14,
     "metadata": {},
     "output_type": "execute_result"
    }
   ],
   "source": [
    "# sort() ordena los elementos de menor a mayor\n",
    "lista.sort()\n",
    "lista"
   ]
  },
  {
   "cell_type": "code",
   "execution_count": 15,
   "metadata": {},
   "outputs": [
    {
     "data": {
      "text/plain": [
       "[78, 25, 6, 4, 3, 2, 1]"
      ]
     },
     "execution_count": 15,
     "metadata": {},
     "output_type": "execute_result"
    }
   ],
   "source": [
    "# sort() si lo queremos de mayor a menor podemos argumentar un reverse\n",
    "lista.sort(reverse=True)\n",
    "lista"
   ]
  },
  {
   "cell_type": "code",
   "execution_count": 16,
   "metadata": {},
   "outputs": [
    {
     "data": {
      "text/plain": [
       "'odnum aloH'"
      ]
     },
     "execution_count": 16,
     "metadata": {},
     "output_type": "execute_result"
    }
   ],
   "source": [
    "# las cadenas no tienen el metodo reverse, pero se puede simular\n",
    "lista = list(\"Hola mundo\")\n",
    "lista.reverse()\n",
    "cadena = \"\".join(lista)\n",
    "cadena   "
   ]
  },
  {
   "cell_type": "code",
   "execution_count": null,
   "metadata": {},
   "outputs": [],
   "source": []
  },
  {
   "cell_type": "code",
   "execution_count": null,
   "metadata": {},
   "outputs": [],
   "source": []
  }
 ],
 "metadata": {
  "kernelspec": {
   "display_name": "Python 3",
   "language": "python",
   "name": "python3"
  },
  "language_info": {
   "codemirror_mode": {
    "name": "ipython",
    "version": 3
   },
   "file_extension": ".py",
   "mimetype": "text/x-python",
   "name": "python",
   "nbconvert_exporter": "python",
   "pygments_lexer": "ipython3",
   "version": "3.7.6"
  }
 },
 "nbformat": 4,
 "nbformat_minor": 4
}
