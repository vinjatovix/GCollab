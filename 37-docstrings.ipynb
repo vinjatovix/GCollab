{
 "cells": [
  {
   "cell_type": "code",
   "execution_count": 1,
   "metadata": {},
   "outputs": [],
   "source": [
    "# Docstrings - cadenas para documentación"
   ]
  },
  {
   "cell_type": "code",
   "execution_count": 3,
   "metadata": {},
   "outputs": [],
   "source": [
    "def saludar(nombre):\n",
    "    '''\n",
    "    Esto es un comentario de la función saludar.\n",
    "    Esta funcion resibe como parametro una cadena con el nombre\n",
    "    e imprime en pantalla un saludo con el nombre\n",
    "    '''\n",
    "    print(f'Hola {nombre}')"
   ]
  },
  {
   "cell_type": "code",
   "execution_count": 4,
   "metadata": {},
   "outputs": [
    {
     "name": "stdout",
     "output_type": "stream",
     "text": [
      "Hola Pablo\n"
     ]
    }
   ],
   "source": [
    "saludar('Pablo')"
   ]
  },
  {
   "cell_type": "code",
   "execution_count": 5,
   "metadata": {},
   "outputs": [
    {
     "name": "stdout",
     "output_type": "stream",
     "text": [
      "Help on function saludar in module __main__:\n",
      "\n",
      "saludar(nombre)\n",
      "    Esto es un comentario de la función saludar.\n",
      "    Esta funcion resibe como parametro una cadena con el nombre\n",
      "    e imprime en pantalla un saludo con el nombre\n",
      "\n"
     ]
    }
   ],
   "source": [
    "help(saludar)"
   ]
  },
  {
   "cell_type": "code",
   "execution_count": 7,
   "metadata": {},
   "outputs": [],
   "source": [
    "class Saludos:\n",
    "    '''\n",
    "    Esta clase tiene dos funciones, Hola y Adios.\n",
    "    Ambas reciben como parámetro un nombre\n",
    "    '''\n",
    "    def hola(self,nombre):\n",
    "        ''' Esta funcion saluda '''\n",
    "        print(f'Hola {nombre}')\n",
    "        \n",
    "    def adios(self, nombre):\n",
    "        ''' Esta funcion se despide'''\n",
    "        print(f'Adios {nombre}')"
   ]
  },
  {
   "cell_type": "code",
   "execution_count": 8,
   "metadata": {},
   "outputs": [
    {
     "name": "stdout",
     "output_type": "stream",
     "text": [
      "Hola Pablo\n"
     ]
    }
   ],
   "source": [
    "saludo = Saludos()\n",
    "saludo.hola('Pablo')"
   ]
  },
  {
   "cell_type": "code",
   "execution_count": 9,
   "metadata": {},
   "outputs": [
    {
     "name": "stdout",
     "output_type": "stream",
     "text": [
      "Help on class Saludos in module __main__:\n",
      "\n",
      "class Saludos(builtins.object)\n",
      " |  Esta clase tiene dos funciones, Hola y Adios.\n",
      " |  Ambas reciben como parámetro un nombre\n",
      " |  \n",
      " |  Methods defined here:\n",
      " |  \n",
      " |  adios(self, nombre)\n",
      " |      Esta funcion se despide\n",
      " |  \n",
      " |  hola(self, nombre)\n",
      " |      Esta funcion saluda\n",
      " |  \n",
      " |  ----------------------------------------------------------------------\n",
      " |  Data descriptors defined here:\n",
      " |  \n",
      " |  __dict__\n",
      " |      dictionary for instance variables (if defined)\n",
      " |  \n",
      " |  __weakref__\n",
      " |      list of weak references to the object (if defined)\n",
      "\n"
     ]
    }
   ],
   "source": [
    "help(Saludos)"
   ]
  },
  {
   "cell_type": "code",
   "execution_count": 10,
   "metadata": {},
   "outputs": [
    {
     "name": "stdout",
     "output_type": "stream",
     "text": [
      "Help on function hola in module __main__:\n",
      "\n",
      "hola(self, nombre)\n",
      "    Esta funcion saluda\n",
      "\n"
     ]
    }
   ],
   "source": [
    "help(Saludos.hola)"
   ]
  },
  {
   "cell_type": "code",
   "execution_count": null,
   "metadata": {},
   "outputs": [],
   "source": []
  }
 ],
 "metadata": {
  "kernelspec": {
   "display_name": "Python 3.8.2 64-bit",
   "language": "python",
   "name": "python38264bit0d89407e10104d4f89d7b40f85d57db9"
  },
  "language_info": {
   "codemirror_mode": {
    "name": "ipython",
    "version": 3
   },
   "file_extension": ".py",
   "mimetype": "text/x-python",
   "name": "python",
   "nbconvert_exporter": "python",
   "pygments_lexer": "ipython3",
   "version": "3.8.2"
  }
 },
 "nbformat": 4,
 "nbformat_minor": 4
}
