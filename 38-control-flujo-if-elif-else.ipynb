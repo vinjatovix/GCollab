{
 "cells": [
  {
   "cell_type": "code",
   "execution_count": 1,
   "metadata": {},
   "outputs": [],
   "source": [
    "# 38 Controlando el flujo"
   ]
  },
  {
   "cell_type": "code",
   "execution_count": null,
   "metadata": {},
   "outputs": [],
   "source": [
    "'''Un programa informático no es más que una instrucción gigante.\n",
    "por ejemplo. Abre la puerta.\n",
    "\n",
    "Pero esa instrución gigante en realidad se forma de muchas subinstrucciones.\n",
    "Puede ser que primero te levantes, o que la puerta ya esté abierta\n",
    "\n",
    "Controlar el flujo es en realidad preparar todas esas subinstrucciones.\n",
    "es dividir el programa en diferentes caminos y controlarlos'''"
   ]
  },
  {
   "cell_type": "code",
   "execution_count": 2,
   "metadata": {},
   "outputs": [
    {
     "name": "stdout",
     "output_type": "stream",
     "text": [
      "abriendo puerta\n",
      "abierta\n"
     ]
    }
   ],
   "source": [
    "# La sentencia if se ejecuta siempre que lo que evalua sea true\n",
    "\n",
    "puertaCerrada = True\n",
    "\n",
    "if (puertaCerrada):\n",
    "    print('abriendo puerta')\n",
    "    puerta = 'abierta'\n",
    "    \n",
    "print(puerta)"
   ]
  },
  {
   "cell_type": "code",
   "execution_count": 3,
   "metadata": {},
   "outputs": [
    {
     "name": "stdout",
     "output_type": "stream",
     "text": [
      "Quizá debiera cerrar la ventana\n"
     ]
    }
   ],
   "source": [
    "# podemos encadenalos y anidarlos\n",
    "\n",
    "ventana = 'abierta'\n",
    "tiempo = 'frio'\n",
    "\n",
    "if (ventana == 'cerrada'):\n",
    "    print('Que bien se está')\n",
    "          \n",
    "if (ventana == 'abierta'):\n",
    "    if (tiempo == 'frio'):\n",
    "        print('Quizá debiera cerrar la ventana')"
   ]
  },
  {
   "cell_type": "code",
   "execution_count": 4,
   "metadata": {},
   "outputs": [
    {
     "name": "stdout",
     "output_type": "stream",
     "text": [
      "Voy a cerrar la ventana\n"
     ]
    }
   ],
   "source": [
    "# podemos evaluar multiples expresiones siempre que sean booleanas\n",
    "\n",
    "if (ventana == 'abierta') and (tiempo == 'frio'):\n",
    "    print('Voy a cerrar la ventana')"
   ]
  },
  {
   "cell_type": "code",
   "execution_count": 5,
   "metadata": {},
   "outputs": [
    {
     "name": "stdout",
     "output_type": "stream",
     "text": [
      "La ventana está abierta\n"
     ]
    }
   ],
   "source": [
    "#  en caso de evaluar la opcion contraria podemos sentenciar un else\n",
    "\n",
    "if (ventana == 'cerrada'):\n",
    "    (print('Que bien es está'))\n",
    "else:\n",
    "    print('La ventana está abierta')"
   ]
  },
  {
   "cell_type": "code",
   "execution_count": 6,
   "metadata": {},
   "outputs": [
    {
     "name": "stdout",
     "output_type": "stream",
     "text": [
      "¿Ventana, Qué ventana?\n"
     ]
    }
   ],
   "source": [
    "# elif siempre que LAS ANTERIORES NO SE EJECUTEN\n",
    "\n",
    "ventana = 15\n",
    "\n",
    "if (ventana == 'cerrada'):\n",
    "    \n",
    "    if (tiempo == 'frio'):\n",
    "        print('Que bien se está en casa')\n",
    "        \n",
    "    elif (tiempo == 'calor'):\n",
    "        print('Que agobio, abre la ventana por favor')\n",
    "        \n",
    "    else:\n",
    "        print('No se está mal')\n",
    "        \n",
    "elif (ventana == 'abierta'):\n",
    "    \n",
    "    if (tiempo == 'frio'):\n",
    "            print('Quizás hace un poco de frío de más')\n",
    "            \n",
    "    elif (tiempo == 'calor'):\n",
    "        print('Menos mal que entra una brisa agradable')\n",
    "        \n",
    "    else:\n",
    "        print('No se está mal')      \n",
    "        \n",
    "else:\n",
    "    print('¿Ventana, Qué ventana?')"
   ]
  },
  {
   "cell_type": "code",
   "execution_count": null,
   "metadata": {},
   "outputs": [],
   "source": [
    "\n",
    "\n"
   ]
  },
  {
   "cell_type": "code",
   "execution_count": null,
   "metadata": {},
   "outputs": [],
   "source": []
  }
 ],
 "metadata": {
  "kernelspec": {
   "display_name": "Python 3.8.2 64-bit",
   "language": "python",
   "name": "python38264bit0d89407e10104d4f89d7b40f85d57db9"
  },
  "language_info": {
   "codemirror_mode": {
    "name": "ipython",
    "version": 3
   },
   "file_extension": ".py",
   "mimetype": "text/x-python",
   "name": "python",
   "nbconvert_exporter": "python",
   "pygments_lexer": "ipython3",
   "version": "3.8.2"
  }
 },
 "nbformat": 4,
 "nbformat_minor": 4
}
