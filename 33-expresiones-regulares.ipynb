{
 "cells": [
  {
   "cell_type": "code",
   "execution_count": null,
   "metadata": {},
   "outputs": [],
   "source": [
    "# 33.- Expresiones regulares, regex, regexp.\n",
    "# secuencias de caracteres que buscan por patrón\n",
    "\n",
    "# (search, findall, split, sub)"
   ]
  },
  {
   "cell_type": "code",
   "execution_count": null,
   "metadata": {},
   "outputs": [],
   "source": [
    "# Para emplearlas tenemos que importar el módulo\n",
    "\n",
    "import re"
   ]
  },
  {
   "cell_type": "code",
   "execution_count": null,
   "metadata": {},
   "outputs": [],
   "source": [
    "# search()\n",
    "\n",
    "# Si lo la cadena nos devuelve un objeto del tipo Match\n",
    "# El span nos indica en que posición de la cadena se encuentra\n",
    "\n",
    "txt = 'Python 101 me sirve de repaso'\n",
    "\n",
    "busqueda = re.search('101',txt)\n",
    "\n",
    "busqueda"
   ]
  },
  {
   "cell_type": "code",
   "execution_count": null,
   "metadata": {},
   "outputs": [],
   "source": [
    "# Si no, no devuelve nada\n",
    "# ten en cuenta que es Case Sensitive\n",
    "\n",
    "txt = 'Python 101 me sirve de repaso'\n",
    "\n",
    "busqueda = re.search('python',txt)\n",
    "\n",
    "if (busqueda):\n",
    "    print('Tienes un nuevo Match!')\n",
    "else:\n",
    "    print('Sigue buscando campeón')"
   ]
  },
  {
   "cell_type": "code",
   "execution_count": null,
   "metadata": {},
   "outputs": [],
   "source": [
    "# de esta busqueda podemos sacar bastante información\n",
    "\n",
    "txt = 'Python 101 me sirve de repaso'\n",
    "\n",
    "busqueda = re.search('101',txt)\n",
    "\n",
    "print(busqueda.start())\n",
    "print(busqueda.end())\n",
    "print(busqueda.span())\n",
    "print(busqueda.string) "
   ]
  },
  {
   "cell_type": "code",
   "execution_count": null,
   "metadata": {},
   "outputs": [],
   "source": [
    "# $ busca si coincide el final\n",
    "\n",
    "txt = 'Python 101 me sirve de repaso'\n",
    "\n",
    "re.search('repaso$',txt)"
   ]
  },
  {
   "cell_type": "code",
   "execution_count": null,
   "metadata": {},
   "outputs": [],
   "source": [
    "# ^ busca si coincide el principio\n",
    "\n",
    "txt = 'Python 101 me sirve de repaso'\n",
    "re.search('^Python',txt)"
   ]
  },
  {
   "cell_type": "code",
   "execution_count": null,
   "metadata": {},
   "outputs": [],
   "source": [
    "# .match() se restringe al inicio del primer string\n",
    "\n",
    "txt = '''Verde\n",
    "Verde que te quiero verde.\n",
    "Verde viento, verdes ramas.\n",
    "El barco sobre la mar,\n",
    "el caballo en la montaña.\n",
    "'''\n",
    "\n",
    "print(re.match('Verde',txt))"
   ]
  },
  {
   "cell_type": "code",
   "execution_count": null,
   "metadata": {},
   "outputs": [],
   "source": [
    "# en modo MULTILINE .match() solo mirará la primera línea\n",
    "\n",
    "busqueda = re.match('El',txt,re.MULTILINE)\n",
    "if (not busqueda):\n",
    "    print('No hay match')"
   ]
  },
  {
   "cell_type": "code",
   "execution_count": null,
   "metadata": {},
   "outputs": [],
   "source": [
    "# .search() in embargo toma el principio de cada línea\n",
    "\n",
    "re.search('El',txt,re.MULTILINE)"
   ]
  },
  {
   "cell_type": "code",
   "execution_count": null,
   "metadata": {},
   "outputs": [],
   "source": [
    "# Podemos hacer consultas inclusivas.\n",
    "\n",
    "# Queremos ver si la cadena tiene me y de sin importar \n",
    "# lo que haya entre ellos. Para eso el . nos sirve de comodín\n",
    "# y el * que puede aparecer 0 o mas veces en el medio\n",
    "\n",
    "txt = 'Python 101 me sirve de repaso'\n",
    "\n",
    "re.search('me.*de',txt)\n"
   ]
  },
  {
   "cell_type": "code",
   "execution_count": null,
   "metadata": {},
   "outputs": [],
   "source": [
    "# .search() tiene un montón de posibilidades\n",
    "# aquí vemos las principales pero deberías de\n",
    "# profundizar en https://docs.python.org/"
   ]
  },
  {
   "cell_type": "code",
   "execution_count": null,
   "metadata": {},
   "outputs": [],
   "source": [
    "# split\n",
    "# divide una cadena a partir de un patrón\n",
    "# en este caso la referencia es \\s que quiere decir espacio\n",
    "# nos devuelve una lista []\n",
    "\n",
    "txt = 'Dábale arroz a la zorra el abad'\n",
    "\n",
    "re.split('\\s',txt)"
   ]
  },
  {
   "cell_type": "code",
   "execution_count": null,
   "metadata": {},
   "outputs": [],
   "source": [
    "# sub sustituye todas las coincidencias\n",
    "# Capital Sensitive\n",
    "\n",
    "txt = '''Verde\n",
    "Verde que te quiero verde.\n",
    "Verde viento, verdes ramas.\n",
    "El barco sobre la mar,\n",
    "el caballo en la montaña.\n",
    "'''\n",
    "\n",
    "print(re.sub('verde','roja',txt))"
   ]
  },
  {
   "cell_type": "code",
   "execution_count": null,
   "metadata": {},
   "outputs": [],
   "source": [
    "# findall\n",
    "# busca todas las ocurrencias en la cadena\n",
    "# nos devuelve una lista []\n",
    "\n",
    "txt = '''\n",
    "Python 101 me sirve de repaso.\n",
    "Los puntos clave de mi estudio los convierto en tarjetas.\n",
    "Siempre las tengo a mano en el IG de @Vinjadevix.\n",
    "'''\n",
    "\n",
    "busqueda = re.findall('de.*',txt)\n",
    "busqueda"
   ]
  },
  {
   "cell_type": "code",
   "execution_count": null,
   "metadata": {},
   "outputs": [],
   "source": [
    "# Patrones con varios valores, el pipe funciona como OR\n",
    "\n",
    "txt = 'hola adiós hello bye'\n",
    "\n",
    "re.findall('hola|hello',txt)"
   ]
  },
  {
   "cell_type": "code",
   "execution_count": null,
   "metadata": {},
   "outputs": [],
   "source": [
    "# Patrones con sintaxis repetida\n",
    "\n",
    "txt = \"addddddios adios aaaaadios aaadio\"\n",
    "\n",
    "\n",
    "\n",
    "def buscar(bp, txt):\n",
    "    for item in bp:\n",
    "        print( re.findall(item, txt) )\n",
    "\n",
    "bp = ['dios', 'aaadios', 'aaaa']\n",
    "buscar(bp, txt)"
   ]
  },
  {
   "cell_type": "code",
   "execution_count": null,
   "metadata": {},
   "outputs": [],
   "source": [
    "# con meta * definimos ninguna o mas repeticiones \n",
    "# a la izd del caracter\n",
    " \n",
    "\n",
    "txt = \"addddddios adios aaaaadios aaadio\"\n",
    "\n",
    "bp = ['ad*ios','a*dios']\n",
    "buscar(bp,txt)"
   ]
  },
  {
   "cell_type": "code",
   "execution_count": null,
   "metadata": {},
   "outputs": [],
   "source": [
    "# con meta + definimos UNA o mas repeticiones \n",
    "# a la izd del caracter\n",
    "\n",
    "txt = \"addddddios aios aaaaadios aaadio\"\n",
    "\n",
    "bp = ['ad+ios','a+dios']\n",
    "buscar(bp,txt)"
   ]
  },
  {
   "cell_type": "code",
   "execution_count": null,
   "metadata": {},
   "outputs": [],
   "source": [
    "# con meta ? UNA o NINGUNA\n",
    "\n",
    "txt = \"addddddios adios aaaaadios aaadio\"\n",
    "\n",
    "bp = ['ad?ios','a?dios']\n",
    "buscar(bp,txt)"
   ]
  },
  {
   "cell_type": "code",
   "execution_count": null,
   "metadata": {},
   "outputs": [],
   "source": [
    "# si sabemos en mumero concreto de repeticiones\n",
    "# podemos acotarlo con {n}\n",
    "\n",
    "txt = \"addddddios adios aaaaadios aaadio\"\n",
    "\n",
    "bp = ['ad{6}ios','a{5}dios']\n",
    "buscar(bp,txt)"
   ]
  },
  {
   "cell_type": "code",
   "execution_count": null,
   "metadata": {},
   "outputs": [],
   "source": [
    "# o un numero de repeticiones en un rango\n",
    "# {n,m}\n",
    "\n",
    "txt = \"addddddios adios aaaaadios aaadio\"\n",
    "\n",
    "bp = ['ad{1,6}ios','a{1,3}dios']\n",
    "buscar(bp,txt)"
   ]
  },
  {
   "cell_type": "code",
   "execution_count": null,
   "metadata": {},
   "outputs": [],
   "source": [
    "# podemos crear un patron con un conjunto\n",
    "\n",
    "txt = \"parra perra pirra porra purra parre perre pirre porre purre parri perri pirri porri purri \"\n",
    "\n",
    "bp = ['p[ao]rr[ei]', 'p[eu]rra']\n",
    "buscar(bp,txt)"
   ]
  },
  {
   "cell_type": "code",
   "execution_count": null,
   "metadata": {},
   "outputs": [],
   "source": [
    "# Exclusion en grupos\n",
    "# [^] indicamos la busqueda contraria\n",
    "\n",
    "txt = \"parra perra pirra porra purra parre perre pirre porre purre parri perri pirri porri purri \"\n",
    "\n",
    "bp = ['p[^ao]rr[^ei]', 'p[^eu]rra']\n",
    "buscar(bp,txt)"
   ]
  },
  {
   "cell_type": "code",
   "execution_count": null,
   "metadata": {},
   "outputs": [],
   "source": [
    "# rangos\n",
    "# [-]\n",
    "'''\n",
    "[A-Z]: caracter alfabético en mayúscula\n",
    "[a-z]: caracter alfabético en minúscula\n",
    "[A-Za-z]: Cualquier carácter alfabético\n",
    "[A-z]: Cualquier carácter alfabético\n",
    "[0-9]: Cualquier carácter numérico \n",
    "[a-zA-Z0-9]: Cualquier carácter alfanumérico \n",
    "\n",
    "cualquier rango puede ser excluido para conseguir el patrón contrario\n",
    "'''\n",
    "\n",
    "txt = \"parra p3rr4 pirr4 p0rra purr4 parre p3rr3 pirre porre purre parri perri pirri porri purri \"\n",
    "\n",
    "bp = ['p[0-9]rr[0-9]']\n",
    "buscar(bp,txt)"
   ]
  },
  {
   "cell_type": "code",
   "execution_count": null,
   "metadata": {},
   "outputs": [],
   "source": [
    "# Códigos escapados \\\n",
    "# tienen un significado único\n",
    "# por ejemplo\n",
    "\n",
    "'''\n",
    "\\d\tnumérico\n",
    "\\D\tno numérico\n",
    "\\s\tespacio en blanco\n",
    "\\S\tno espacio en blanco\n",
    "\\w\talfanumérico\n",
    "\\W\tno alfanumérico\n",
    "'''\n",
    "\n",
    "# hay que predecirlos con una r\n",
    "\n",
    "txt = \"Python 101 son mis resúmenes de estudio\"\n",
    "\n",
    "bp = [r'\\d+', r'\\D+', r'\\s', r'\\S+', r'\\w+', r'\\W+'] \n",
    "print(buscar(bp, txt))"
   ]
  },
  {
   "cell_type": "code",
   "execution_count": null,
   "metadata": {},
   "outputs": [],
   "source": [
    "# https://docs.python.org/3.8/library/re.html"
   ]
  }
 ],
 "metadata": {
  "kernelspec": {
   "display_name": "Python 3.8.2 64-bit",
   "language": "python",
   "name": "python38264bit0d89407e10104d4f89d7b40f85d57db9"
  },
  "language_info": {
   "codemirror_mode": {
    "name": "ipython",
    "version": 3
   },
   "file_extension": ".py",
   "mimetype": "text/x-python",
   "name": "python",
   "nbconvert_exporter": "python",
   "pygments_lexer": "ipython3",
   "version": "3.8.2-final"
  }
 },
 "nbformat": 4,
 "nbformat_minor": 4
}