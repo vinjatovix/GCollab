{
 "cells": [
  {
   "cell_type": "code",
   "execution_count": 6,
   "metadata": {},
   "outputs": [],
   "source": [
    "# 29 funcion lambda  (pequeña y anónima)\n",
    "\n",
    "r = lambda n : n + 30"
   ]
  },
  {
   "cell_type": "code",
   "execution_count": 7,
   "metadata": {},
   "outputs": [
    {
     "data": {
      "text/plain": [
       "50"
      ]
     },
     "execution_count": 7,
     "metadata": {},
     "output_type": "execute_result"
    }
   ],
   "source": [
    "r(20)"
   ]
  },
  {
   "cell_type": "code",
   "execution_count": 9,
   "metadata": {},
   "outputs": [
    {
     "data": {
      "text/plain": [
       "5"
      ]
     },
     "execution_count": 9,
     "metadata": {},
     "output_type": "execute_result"
    }
   ],
   "source": [
    "r2 = lambda n1 , n2 : n1 + n2\n",
    "r2(2,3)"
   ]
  },
  {
   "cell_type": "code",
   "execution_count": 1,
   "metadata": {},
   "outputs": [
    {
     "name": "stdout",
     "output_type": "stream",
     "text": [
      "¿Te gusta programar?si\n",
      "Haciendo esto me siento bien\n",
      "¿Te gusta programar?si\n",
      "Haciendo esto me siento bien\n",
      "¿Te gusta programar?claro\n",
      "Haciendo esto me siento bien\n",
      "¿Te gusta programar?no\n",
      "Ya te gustará. ;)\n"
     ]
    }
   ],
   "source": [
    "def code():\n",
    "    print('Haciendo esto me siento bien')\n",
    "\n",
    "while input('¿Te gusta programar?') != 'no':\n",
    "    code()\n",
    "print('Ya te gustará. ;)')"
   ]
  },
  {
   "cell_type": "code",
   "execution_count": null,
   "metadata": {},
   "outputs": [],
   "source": []
  }
 ],
 "metadata": {
  "kernelspec": {
   "display_name": "Python 3",
   "language": "python",
   "name": "python3"
  },
  "language_info": {
   "codemirror_mode": {
    "name": "ipython",
    "version": 3
   },
   "file_extension": ".py",
   "mimetype": "text/x-python",
   "name": "python",
   "nbconvert_exporter": "python",
   "pygments_lexer": "ipython3",
   "version": "3.7.6"
  }
 },
 "nbformat": 4,
 "nbformat_minor": 4
}
