{
 "cells": [
  {
   "cell_type": "code",
   "execution_count": 1,
   "metadata": {},
   "outputs": [],
   "source": [
    "# 27   Clases y objetos. POO\n",
    "# Una manera muy gráfica de visualizarlos es\n",
    "# las clases son moldes de galletas\n",
    "# y los objetos de esas clases las galletas en si"
   ]
  },
  {
   "cell_type": "code",
   "execution_count": 2,
   "metadata": {},
   "outputs": [],
   "source": [
    "class Galleta:\n",
    "    '''La clase Galleta tiene dos propiedades'''\n",
    "    forma = 'redonda'\n",
    "    sabor = 'galleta'"
   ]
  },
  {
   "cell_type": "code",
   "execution_count": 3,
   "metadata": {},
   "outputs": [
    {
     "name": "stdout",
     "output_type": "stream",
     "text": [
      "La primera sabe a galleta y es redonda\n",
      "La segunda sabe a chocolate y es cuadrada\n"
     ]
    }
   ],
   "source": [
    "# vamos a sacar dos galletas (objeto)\n",
    "galleta1 = Galleta()\n",
    "galleta2 = Galleta()\n",
    "\n",
    "# pero ahora quiero que la segunda sea cuadrada\n",
    "# y de chocolate\n",
    "\n",
    "galleta2.forma = 'cuadrada'\n",
    "galleta2.sabor = 'chocolate'\n",
    "\n",
    "\n",
    "print(f'La primera sabe a {galleta1.sabor} y es {galleta1.forma}')\n",
    "print('La segunda sabe a {} y es {}'\n",
    "      .format(galleta2.sabor,galleta2.forma))"
   ]
  },
  {
   "cell_type": "code",
   "execution_count": 4,
   "metadata": {},
   "outputs": [],
   "source": [
    "# las clases pueden albergar métodos\n",
    "\n",
    "class Galleta:\n",
    "    '''La clase galleta tiene dos métodos.\n",
    "    El primero sirve para inicializar el objeto.\n",
    "    Con el segundo comeríamos la galleta'''\n",
    "    # con self hacemos referencia a la misma clase, en este caso Galleta\n",
    "    def __init__(self,sabor,efecto):\n",
    "        '''Este método nos sirve para inicializar el objeto cuando lo creamos.\n",
    "        Necesitamos enviar dos argumentos para ello. (sabor,efecto)'''\n",
    "        self.sabor = sabor\n",
    "        self.efecto = efecto\n",
    "        \n",
    "    def comer(self):\n",
    "        '''Con este método comemos la galleta'''\n",
    "        print('Comiste una galleta de {} y recuperaste {} puntos'.format(self.sabor,self.efecto)) "
   ]
  },
  {
   "cell_type": "code",
   "execution_count": 5,
   "metadata": {},
   "outputs": [
    {
     "name": "stdout",
     "output_type": "stream",
     "text": [
      "Comiste una galleta de chocolate y recuperaste 5 puntos\n"
     ]
    }
   ],
   "source": [
    "galleta1 = Galleta('chocolate',5)\n",
    "galleta1.comer()"
   ]
  },
  {
   "cell_type": "code",
   "execution_count": 5,
   "metadata": {},
   "outputs": [
    {
     "name": "stdout",
     "output_type": "stream",
     "text": [
      "('laura', 22)\n",
      "laura\n"
     ]
    }
   ],
   "source": [
    "class Persona():\n",
    "    # esta es una buena practica que nos permite llevar un registro de los objetos creados por esta clase\n",
    "    recs=[]\n",
    "\n",
    "    def __init__(self,nombre,edad):\n",
    "        self.nombre = nombre\n",
    "        self.edad = edad\n",
    "        # con esto añadimos el objeto al registro general de la clase\n",
    "        self.recs.append((self.nombre,self.edad))\n",
    "        \n",
    "    def __repr__(self):\n",
    "        # si reescribimos este metodo de esta manera podemos facilmente obtener el nombre de la clase\n",
    "        return self.nombre\n",
    "\n",
    "pj1 = Persona('pepe',36)\n",
    "pj2 = Persona('laura',22)\n",
    "\n",
    "print(Persona.recs[1])\n",
    "#esto es el metodo repr reescrito\n",
    "print(pj2)"
   ]
  },
  {
   "cell_type": "code",
   "execution_count": null,
   "metadata": {},
   "outputs": [],
   "source": []
  }
 ],
 "metadata": {
  "kernelspec": {
   "display_name": "Python 3.8.2 64-bit",
   "language": "python",
   "name": "python38264bit0d89407e10104d4f89d7b40f85d57db9"
  },
  "language_info": {
   "codemirror_mode": {
    "name": "ipython",
    "version": 3
   },
   "file_extension": ".py",
   "mimetype": "text/x-python",
   "name": "python",
   "nbconvert_exporter": "python",
   "pygments_lexer": "ipython3",
   "version": "3.8.2"
  }
 },
 "nbformat": 4,
 "nbformat_minor": 4
}
