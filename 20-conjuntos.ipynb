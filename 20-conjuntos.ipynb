{
 "cells": [
  {
   "cell_type": "code",
   "execution_count": 1,
   "metadata": {},
   "outputs": [],
   "source": [
    "# 20 Los conjuntos son colecciones desordenadas \n",
    "# no tienen indice. No podemos acceder por posicion\n",
    "# se utilizan para hacer pruebas de pertenencia a grupos\n",
    "# y eliminación de duplicados"
   ]
  },
  {
   "cell_type": "code",
   "execution_count": 2,
   "metadata": {},
   "outputs": [
    {
     "data": {
      "text/plain": [
       "{'azul', 'rojo', 'verde'}"
      ]
     },
     "execution_count": 2,
     "metadata": {},
     "output_type": "execute_result"
    }
   ],
   "source": [
    "# para definit un conjunto vacío lo llamamos con set()\n",
    "conjunto = set()\n",
    "\n",
    "# pero si lo creamos con datos se definen entre llaves {}\n",
    "con_color = {'rojo','verde','azul'}\n",
    "con_color"
   ]
  },
  {
   "cell_type": "code",
   "execution_count": 3,
   "metadata": {},
   "outputs": [
    {
     "data": {
      "text/plain": [
       "{'azul', 'negro', 'rojo', 'verde'}"
      ]
     },
     "execution_count": 3,
     "metadata": {},
     "output_type": "execute_result"
    }
   ],
   "source": [
    "# Método add() añadimos un elemento al conjunto SI NO EXISTE\n",
    "# Los duplicados se borran automaticamente\n",
    "con_color.add('negro')\n",
    "con_color.add('negro')\n",
    "con_color.add('negro')\n",
    "con_color\n"
   ]
  },
  {
   "cell_type": "code",
   "execution_count": 4,
   "metadata": {},
   "outputs": [
    {
     "data": {
      "text/plain": [
       "{'azul', 'blanco', 'negro', 'rojo', 'verde', 'violeta'}"
      ]
     },
     "execution_count": 4,
     "metadata": {},
     "output_type": "execute_result"
    }
   ],
   "source": [
    "# Al no tener indice gestionan automaticamente la posición de los elementos\n",
    "con_color.add('violeta')\n",
    "con_color.add('blanco')\n",
    "con_color"
   ]
  },
  {
   "cell_type": "code",
   "execution_count": 5,
   "metadata": {},
   "outputs": [
    {
     "data": {
      "text/plain": [
       "True"
      ]
     },
     "execution_count": 5,
     "metadata": {},
     "output_type": "execute_result"
    }
   ],
   "source": [
    "# podemos saber si un elemento se encuentra en un conjunto con la sintaxis in\n",
    "'blanco' in con_color"
   ]
  },
  {
   "cell_type": "code",
   "execution_count": 6,
   "metadata": {},
   "outputs": [
    {
     "data": {
      "text/plain": [
       "True"
      ]
     },
     "execution_count": 6,
     "metadata": {},
     "output_type": "execute_result"
    }
   ],
   "source": [
    "# o si no lo está\n",
    "'beige' not in con_color"
   ]
  },
  {
   "cell_type": "code",
   "execution_count": 7,
   "metadata": {},
   "outputs": [
    {
     "name": "stdout",
     "output_type": "stream",
     "text": [
      "[0, 1, 2, 3, 4, 5, 6, 7, 8, 9]\n"
     ]
    }
   ],
   "source": [
    "# Se pueden convertir listas en conjuntos y viceversa\n",
    "# esto nos permite eliminar duplicados\n",
    "\n",
    "lista = [1,1,1,2,3,4,5,5,6,7,8,8,8,8,9,0]\n",
    "conjunto = set(lista)\n",
    "lista = list(conjunto)\n",
    "print(lista)"
   ]
  },
  {
   "cell_type": "code",
   "execution_count": 8,
   "metadata": {},
   "outputs": [
    {
     "name": "stdout",
     "output_type": "stream",
     "text": [
      "[0, 1, 2, 3, 4, 5, 6, 7, 8, 9]\n"
     ]
    }
   ],
   "source": [
    "# y esto se puede reducir a una sola linea\n",
    "lista = [1,1,1,2,3,4,5,5,6,7,8,8,8,8,9,0]\n",
    "\n",
    "print(list(set(lista)))"
   ]
  },
  {
   "cell_type": "code",
   "execution_count": 9,
   "metadata": {},
   "outputs": [
    {
     "name": "stdout",
     "output_type": "stream",
     "text": [
      "{' ', 'e', 'b', 'á', 'l', 'z', 'd', 'o', 'r', 'a'}\n"
     ]
    }
   ],
   "source": [
    "# conversion con strings\n",
    "print(set('dábale arroz a la zorra el abad'))\n"
   ]
  },
  {
   "cell_type": "code",
   "execution_count": 10,
   "metadata": {},
   "outputs": [
    {
     "data": {
      "text/plain": [
       "{1, 3, 4, 5}"
      ]
     },
     "execution_count": 10,
     "metadata": {},
     "output_type": "execute_result"
    }
   ],
   "source": [
    "# discard() elimina un item del conjunto\n",
    "# OJO elimina el item por su nombre, no por su posición\n",
    "c1 = {1,'verde',3,4,5}\n",
    "c1.discard('verde')\n",
    "c1"
   ]
  },
  {
   "cell_type": "code",
   "execution_count": 11,
   "metadata": {},
   "outputs": [
    {
     "name": "stdout",
     "output_type": "stream",
     "text": [
      "{1, 3, 4, 5} {1, 3, 4, 5}\n",
      "{1, 3, 4, 5} {1, 3, 5}\n"
     ]
    }
   ],
   "source": [
    "# copy() crea una copia del conjunto\n",
    "c2 = c1.copy()\n",
    "print(c1,c2)\n",
    "\n",
    "c2.discard(4)\n",
    "print(c1,c2)\n"
   ]
  },
  {
   "cell_type": "code",
   "execution_count": 12,
   "metadata": {},
   "outputs": [
    {
     "data": {
      "text/plain": [
       "set()"
      ]
     },
     "execution_count": 12,
     "metadata": {},
     "output_type": "execute_result"
    }
   ],
   "source": [
    "# clear() vacía el conjunto\n",
    "c1.clear()\n",
    "c1"
   ]
  },
  {
   "cell_type": "code",
   "execution_count": 13,
   "metadata": {},
   "outputs": [
    {
     "name": "stdout",
     "output_type": "stream",
     "text": [
      "False\n",
      "True\n"
     ]
    }
   ],
   "source": [
    "# Comparando conjuntos\n",
    "c1 = {2,4,6,8}\n",
    "c2 = {1,2,3,4}\n",
    "c3 = {-1,999}\n",
    "c4 = {1,2,3,4,5,6,7,8}\n",
    "\n",
    "# isdisjoint() comprueba que no haya ningun elemento en comun\n",
    "print(c1.isdisjoint(c2))\n",
    "print(c1.isdisjoint(c3))"
   ]
  },
  {
   "cell_type": "code",
   "execution_count": 14,
   "metadata": {},
   "outputs": [
    {
     "name": "stdout",
     "output_type": "stream",
     "text": [
      "True\n",
      "True\n"
     ]
    }
   ],
   "source": [
    "# issubset() comprueba si un conjunto es subconjunto de otro\n",
    "print(c2.issubset(c4))\n",
    "\n",
    "# issuperset() hace la comprobacion contraria\n",
    "print(c4.issuperset(c2))"
   ]
  },
  {
   "cell_type": "code",
   "execution_count": 15,
   "metadata": {},
   "outputs": [],
   "source": [
    "# Métodos avanzados con esto realizamos uniones, diferencias y otras operaciones avanzadas\n",
    "# tiene dos formas, una devuelve el resultado y otra ademas lo actualiza."
   ]
  },
  {
   "cell_type": "code",
   "execution_count": 16,
   "metadata": {},
   "outputs": [
    {
     "name": "stdout",
     "output_type": "stream",
     "text": [
      "{1, 2, 3, 4} + {3, 4, 5, 6} = {1, 2, 3, 4, 5, 6}\n"
     ]
    }
   ],
   "source": [
    "# union()  une dos conjuntos y devuelve el resultado en un tercero\n",
    "c1 = {1,2,3,4}\n",
    "c2 = {3,4,5,6}\n",
    "c3 = c1.union(c2)\n",
    "print(c1, \"+\", c2, \"=\", c3)"
   ]
  },
  {
   "cell_type": "code",
   "execution_count": 17,
   "metadata": {},
   "outputs": [
    {
     "name": "stdout",
     "output_type": "stream",
     "text": [
      "{1, 2, 3, 4, 5, 6}  y  {3, 4, 5, 6}\n"
     ]
    }
   ],
   "source": [
    "# update() une un conjunto a otro\n",
    "c1.update(c2)\n",
    "print(c1,  \" y \", c2)"
   ]
  },
  {
   "cell_type": "code",
   "execution_count": 18,
   "metadata": {},
   "outputs": [
    {
     "name": "stdout",
     "output_type": "stream",
     "text": [
      "{1, 2}\n",
      "{1, 2, 3, 4, 5, 6}\n"
     ]
    }
   ],
   "source": [
    "# difference() busca las diferencias entre ellos\n",
    "print(c1.difference(c2))\n",
    "print(c1)"
   ]
  },
  {
   "cell_type": "code",
   "execution_count": 19,
   "metadata": {},
   "outputs": [
    {
     "data": {
      "text/plain": [
       "{1, 2}"
      ]
     },
     "execution_count": 19,
     "metadata": {},
     "output_type": "execute_result"
    }
   ],
   "source": [
    "# difference_update() actualiza el conjunto con los elementos no comunes\n",
    "c1.difference_update(c2)\n",
    "c1"
   ]
  },
  {
   "cell_type": "code",
   "execution_count": 20,
   "metadata": {},
   "outputs": [
    {
     "name": "stdout",
     "output_type": "stream",
     "text": [
      "{2, 3}\n",
      "{1, 2, 3}\n"
     ]
    }
   ],
   "source": [
    "# intersection() nos devuelve un conjunto con los elementos comunes\n",
    "c1 = {1,2,3}\n",
    "c2 = {2,3,4}\n",
    "c3 = c1.intersection(c2)\n",
    "print(c3)\n",
    "print(c1)"
   ]
  },
  {
   "cell_type": "code",
   "execution_count": 21,
   "metadata": {},
   "outputs": [
    {
     "data": {
      "text/plain": [
       "{2, 3}"
      ]
     },
     "execution_count": 21,
     "metadata": {},
     "output_type": "execute_result"
    }
   ],
   "source": [
    "# intersection_update() actualiza el propio conjunto\n",
    "c1.intersection_update(c2)\n",
    "c1"
   ]
  },
  {
   "cell_type": "code",
   "execution_count": 22,
   "metadata": {},
   "outputs": [
    {
     "name": "stdout",
     "output_type": "stream",
     "text": [
      "{1, 2, 5, 6}\n",
      "{1, 2}\n"
     ]
    }
   ],
   "source": [
    "# symmetric_diferrence() nos devuelve TODOS los elementos que no concuerdan entre ellos\n",
    "\n",
    "c1 = {1,2,3,4}\n",
    "c2 = {3,4,5,6}\n",
    "\n",
    "print(c1.symmetric_difference(c2))\n",
    "\n",
    "print(c1.difference(c2))"
   ]
  },
  {
   "cell_type": "code",
   "execution_count": null,
   "metadata": {},
   "outputs": [],
   "source": []
  }
 ],
 "metadata": {
  "kernelspec": {
   "display_name": "Python 3",
   "language": "python",
   "name": "python3"
  },
  "language_info": {
   "codemirror_mode": {
    "name": "ipython",
    "version": 3
   },
   "file_extension": ".py",
   "mimetype": "text/x-python",
   "name": "python",
   "nbconvert_exporter": "python",
   "pygments_lexer": "ipython3",
   "version": "3.7.6"
  }
 },
 "nbformat": 4,
 "nbformat_minor": 4
}
