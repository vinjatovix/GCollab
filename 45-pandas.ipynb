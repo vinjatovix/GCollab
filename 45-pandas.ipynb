{
 "cells": [
  {
   "cell_type": "code",
   "execution_count": 1,
   "metadata": {},
   "outputs": [],
   "source": [
    "# pandas DataFrame\n",
    "\n",
    "import pandas as pd"
   ]
  },
  {
   "cell_type": "code",
   "execution_count": 2,
   "metadata": {},
   "outputs": [
    {
     "output_type": "execute_result",
     "data": {
      "text/plain": "True"
     },
     "metadata": {},
     "execution_count": 2
    }
   ],
   "source": [
    "# voy a montar un dataframe con algunos discos de zappa del siguiente enlace\n",
    "\n",
    "import webbrowser\n",
    "website = 'https://es.wikipedia.org/wiki/Anexo:Discograf%C3%ADa_de_Frank_Zappa'\n",
    "webbrowser.open(website)"
   ]
  },
  {
   "cell_type": "code",
   "execution_count": 3,
   "metadata": {},
   "outputs": [
    {
     "output_type": "execute_result",
     "data": {
      "text/plain": "    # Grabación                    Título  Lanzamiento  \\\n0  16   1969-70          Chunga's Revenge         1970   \n1  17      1971                200 Motels         1971   \n2  18      1971  Fillmore East, June 1971         1971   \n3  19   1970-71     Playground Psychotics         1992   \n4  20      1971             Carnegie Hall         2011   \n\n                                                Nota  \n0                               Álbum de estudio #10  \n1                               Álbum de estudio #11  \n2                                            En vivo  \n3  En vivo. Incluye parte del mítico concierto co...  \n4                                            En vivo  ",
      "text/html": "<div>\n<style scoped>\n    .dataframe tbody tr th:only-of-type {\n        vertical-align: middle;\n    }\n\n    .dataframe tbody tr th {\n        vertical-align: top;\n    }\n\n    .dataframe thead th {\n        text-align: right;\n    }\n</style>\n<table border=\"1\" class=\"dataframe\">\n  <thead>\n    <tr style=\"text-align: right;\">\n      <th></th>\n      <th>#</th>\n      <th>Grabación</th>\n      <th>Título</th>\n      <th>Lanzamiento</th>\n      <th>Nota</th>\n    </tr>\n  </thead>\n  <tbody>\n    <tr>\n      <th>0</th>\n      <td>16</td>\n      <td>1969-70</td>\n      <td>Chunga's Revenge</td>\n      <td>1970</td>\n      <td>Álbum de estudio #10</td>\n    </tr>\n    <tr>\n      <th>1</th>\n      <td>17</td>\n      <td>1971</td>\n      <td>200 Motels</td>\n      <td>1971</td>\n      <td>Álbum de estudio #11</td>\n    </tr>\n    <tr>\n      <th>2</th>\n      <td>18</td>\n      <td>1971</td>\n      <td>Fillmore East, June 1971</td>\n      <td>1971</td>\n      <td>En vivo</td>\n    </tr>\n    <tr>\n      <th>3</th>\n      <td>19</td>\n      <td>1970-71</td>\n      <td>Playground Psychotics</td>\n      <td>1992</td>\n      <td>En vivo. Incluye parte del mítico concierto co...</td>\n    </tr>\n    <tr>\n      <th>4</th>\n      <td>20</td>\n      <td>1971</td>\n      <td>Carnegie Hall</td>\n      <td>2011</td>\n      <td>En vivo</td>\n    </tr>\n  </tbody>\n</table>\n</div>"
     },
     "metadata": {},
     "execution_count": 3
    }
   ],
   "source": [
    "# con esta instruccion guardo lo que tengo almacenado en el portapapeles a una variable\n",
    "dataframe_zappa = pd.read_clipboard()\n",
    "\n",
    "#veamos que contiene\n",
    "dataframe_zappa"
   ]
  },
  {
   "cell_type": "code",
   "execution_count": 4,
   "metadata": {},
   "outputs": [
    {
     "output_type": "execute_result",
     "data": {
      "text/plain": "Index(['#', 'Grabación', 'Título', 'Lanzamiento', 'Nota'], dtype='object')"
     },
     "metadata": {},
     "execution_count": 4
    }
   ],
   "source": [
    "# puedo acceder al nombre de las columnas\n",
    "dataframe_zappa.columns"
   ]
  },
  {
   "cell_type": "code",
   "execution_count": 5,
   "metadata": {},
   "outputs": [
    {
     "output_type": "execute_result",
     "data": {
      "text/plain": "0            Chunga's Revenge\n1                  200 Motels\n2    Fillmore East, June 1971\n3       Playground Psychotics\n4               Carnegie Hall\nName: Título, dtype: object"
     },
     "metadata": {},
     "execution_count": 5
    }
   ],
   "source": [
    "# y obtener los valores de una determinada columna\n",
    "dataframe_zappa['Título']"
   ]
  },
  {
   "cell_type": "code",
   "execution_count": 6,
   "metadata": {
    "scrolled": true
   },
   "outputs": [
    {
     "output_type": "execute_result",
     "data": {
      "text/plain": "    # Grabación            Título  Lanzamiento                  Nota\n0  16   1969-70  Chunga's Revenge         1970  Álbum de estudio #10\n1  17      1971        200 Motels         1971  Álbum de estudio #11",
      "text/html": "<div>\n<style scoped>\n    .dataframe tbody tr th:only-of-type {\n        vertical-align: middle;\n    }\n\n    .dataframe tbody tr th {\n        vertical-align: top;\n    }\n\n    .dataframe thead th {\n        text-align: right;\n    }\n</style>\n<table border=\"1\" class=\"dataframe\">\n  <thead>\n    <tr style=\"text-align: right;\">\n      <th></th>\n      <th>#</th>\n      <th>Grabación</th>\n      <th>Título</th>\n      <th>Lanzamiento</th>\n      <th>Nota</th>\n    </tr>\n  </thead>\n  <tbody>\n    <tr>\n      <th>0</th>\n      <td>16</td>\n      <td>1969-70</td>\n      <td>Chunga's Revenge</td>\n      <td>1970</td>\n      <td>Álbum de estudio #10</td>\n    </tr>\n    <tr>\n      <th>1</th>\n      <td>17</td>\n      <td>1971</td>\n      <td>200 Motels</td>\n      <td>1971</td>\n      <td>Álbum de estudio #11</td>\n    </tr>\n  </tbody>\n</table>\n</div>"
     },
     "metadata": {},
     "execution_count": 6
    }
   ],
   "source": [
    "# en este caso el dataframe es pequeño, pero podriamos\n",
    "# querer ver solo los dos primeros registros\n",
    "\n",
    "dataframe_zappa.head(2)"
   ]
  },
  {
   "cell_type": "code",
   "execution_count": 7,
   "metadata": {},
   "outputs": [
    {
     "output_type": "execute_result",
     "data": {
      "text/plain": "    # Grabación                 Título  Lanzamiento  \\\n3  19   1970-71  Playground Psychotics         1992   \n4  20      1971          Carnegie Hall         2011   \n\n                                                Nota  \n3  En vivo. Incluye parte del mítico concierto co...  \n4                                            En vivo  ",
      "text/html": "<div>\n<style scoped>\n    .dataframe tbody tr th:only-of-type {\n        vertical-align: middle;\n    }\n\n    .dataframe tbody tr th {\n        vertical-align: top;\n    }\n\n    .dataframe thead th {\n        text-align: right;\n    }\n</style>\n<table border=\"1\" class=\"dataframe\">\n  <thead>\n    <tr style=\"text-align: right;\">\n      <th></th>\n      <th>#</th>\n      <th>Grabación</th>\n      <th>Título</th>\n      <th>Lanzamiento</th>\n      <th>Nota</th>\n    </tr>\n  </thead>\n  <tbody>\n    <tr>\n      <th>3</th>\n      <td>19</td>\n      <td>1970-71</td>\n      <td>Playground Psychotics</td>\n      <td>1992</td>\n      <td>En vivo. Incluye parte del mítico concierto co...</td>\n    </tr>\n    <tr>\n      <th>4</th>\n      <td>20</td>\n      <td>1971</td>\n      <td>Carnegie Hall</td>\n      <td>2011</td>\n      <td>En vivo</td>\n    </tr>\n  </tbody>\n</table>\n</div>"
     },
     "metadata": {},
     "execution_count": 7
    }
   ],
   "source": [
    "# o los dos últimos\n",
    "dataframe_zappa.tail(2)"
   ]
  },
  {
   "cell_type": "code",
   "execution_count": 8,
   "metadata": {},
   "outputs": [
    {
     "output_type": "execute_result",
     "data": {
      "text/plain": "  Asignaturas  notas\n0       mates      7\n1    historia      8\n2      fisica      9",
      "text/html": "<div>\n<style scoped>\n    .dataframe tbody tr th:only-of-type {\n        vertical-align: middle;\n    }\n\n    .dataframe tbody tr th {\n        vertical-align: top;\n    }\n\n    .dataframe thead th {\n        text-align: right;\n    }\n</style>\n<table border=\"1\" class=\"dataframe\">\n  <thead>\n    <tr style=\"text-align: right;\">\n      <th></th>\n      <th>Asignaturas</th>\n      <th>notas</th>\n    </tr>\n  </thead>\n  <tbody>\n    <tr>\n      <th>0</th>\n      <td>mates</td>\n      <td>7</td>\n    </tr>\n    <tr>\n      <th>1</th>\n      <td>historia</td>\n      <td>8</td>\n    </tr>\n    <tr>\n      <th>2</th>\n      <td>fisica</td>\n      <td>9</td>\n    </tr>\n  </tbody>\n</table>\n</div>"
     },
     "metadata": {},
     "execution_count": 8
    }
   ],
   "source": [
    "# Como creamos nuestro DataFrame? por ejemplo con dos listas y un diccionario\n",
    "\n",
    "lista_materias = ['mates','historia','fisica']\n",
    "notas = [7,8,9]\n",
    "dic = {'Asignaturas':lista_materias, 'notas':notas}\n",
    "\n",
    "dataframe_notas = pd.DataFrame(dic)\n",
    "dataframe_notas"
   ]
  },
  {
   "cell_type": "code",
   "execution_count": 9,
   "metadata": {},
   "outputs": [
    {
     "output_type": "execute_result",
     "data": {
      "text/plain": "'c'"
     },
     "metadata": {},
     "execution_count": 9
    }
   ],
   "source": [
    "### Con index indicamos cual es la lista de indices\n",
    "\n",
    "valores = [1,2,3]\n",
    "indices = ['a','b','c']\n",
    "\n",
    "serie = pd.Series(valores, index=indices)\n",
    "\n",
    "serie.index[2]"
   ]
  },
  {
   "cell_type": "code",
   "execution_count": 10,
   "metadata": {},
   "outputs": [
    {
     "output_type": "execute_result",
     "data": {
      "text/plain": "          pablo  pedro  pepe\nmates         1      2     3\nhistoria      2      5     8\nfisica        5      8     3",
      "text/html": "<div>\n<style scoped>\n    .dataframe tbody tr th:only-of-type {\n        vertical-align: middle;\n    }\n\n    .dataframe tbody tr th {\n        vertical-align: top;\n    }\n\n    .dataframe thead th {\n        text-align: right;\n    }\n</style>\n<table border=\"1\" class=\"dataframe\">\n  <thead>\n    <tr style=\"text-align: right;\">\n      <th></th>\n      <th>pablo</th>\n      <th>pedro</th>\n      <th>pepe</th>\n    </tr>\n  </thead>\n  <tbody>\n    <tr>\n      <th>mates</th>\n      <td>1</td>\n      <td>2</td>\n      <td>3</td>\n    </tr>\n    <tr>\n      <th>historia</th>\n      <td>2</td>\n      <td>5</td>\n      <td>8</td>\n    </tr>\n    <tr>\n      <th>fisica</th>\n      <td>5</td>\n      <td>8</td>\n      <td>3</td>\n    </tr>\n  </tbody>\n</table>\n</div>"
     },
     "metadata": {},
     "execution_count": 10
    }
   ],
   "source": [
    "# y con columns la lista de columnas\n",
    "valores = [[1,2,3],[2,5,8],[5,8,3]]\n",
    "indices = ['mates','historia','fisica']\n",
    "nombres = ['pablo','pedro','pepe']\n",
    "\n",
    "df = pd.DataFrame(valores, index=indices,columns=nombres)\n",
    "\n",
    "df\n",
    " "
   ]
  },
  {
   "cell_type": "code",
   "execution_count": 11,
   "metadata": {},
   "outputs": [
    {
     "output_type": "execute_result",
     "data": {
      "text/plain": "Index(['mates', 'historia', 'fisica'], dtype='object')"
     },
     "metadata": {},
     "execution_count": 11
    }
   ],
   "source": [
    "# si queremos conocer los índices\n",
    "df.index"
   ]
  },
  {
   "cell_type": "code",
   "execution_count": 12,
   "metadata": {},
   "outputs": [
    {
     "output_type": "execute_result",
     "data": {
      "text/plain": "   c1  c2  c3\na   0   1   2\nb   3   4   5\nc   6   7   8",
      "text/html": "<div>\n<style scoped>\n    .dataframe tbody tr th:only-of-type {\n        vertical-align: middle;\n    }\n\n    .dataframe tbody tr th {\n        vertical-align: top;\n    }\n\n    .dataframe thead th {\n        text-align: right;\n    }\n</style>\n<table border=\"1\" class=\"dataframe\">\n  <thead>\n    <tr style=\"text-align: right;\">\n      <th></th>\n      <th>c1</th>\n      <th>c2</th>\n      <th>c3</th>\n    </tr>\n  </thead>\n  <tbody>\n    <tr>\n      <th>a</th>\n      <td>0</td>\n      <td>1</td>\n      <td>2</td>\n    </tr>\n    <tr>\n      <th>b</th>\n      <td>3</td>\n      <td>4</td>\n      <td>5</td>\n    </tr>\n    <tr>\n      <th>c</th>\n      <td>6</td>\n      <td>7</td>\n      <td>8</td>\n    </tr>\n  </tbody>\n</table>\n</div>"
     },
     "metadata": {},
     "execution_count": 12
    }
   ],
   "source": [
    "# Eliminar elementos en series y dataframes\n",
    "\n",
    "import pandas as pd\n",
    "import numpy as np\n",
    "\n",
    "valores = np.arange(9).reshape(3,3)\n",
    "indices = ['a','b','c']\n",
    "columnas = ['c1','c2','c3']\n",
    "\n",
    "df = pd.DataFrame(valores, index=indices, columns=columnas)\n",
    "df"
   ]
  },
  {
   "cell_type": "code",
   "execution_count": 13,
   "metadata": {},
   "outputs": [
    {
     "output_type": "execute_result",
     "data": {
      "text/plain": "   c1  c2  c3\na   0   1   2\nb   3   4   5",
      "text/html": "<div>\n<style scoped>\n    .dataframe tbody tr th:only-of-type {\n        vertical-align: middle;\n    }\n\n    .dataframe tbody tr th {\n        vertical-align: top;\n    }\n\n    .dataframe thead th {\n        text-align: right;\n    }\n</style>\n<table border=\"1\" class=\"dataframe\">\n  <thead>\n    <tr style=\"text-align: right;\">\n      <th></th>\n      <th>c1</th>\n      <th>c2</th>\n      <th>c3</th>\n    </tr>\n  </thead>\n  <tbody>\n    <tr>\n      <th>a</th>\n      <td>0</td>\n      <td>1</td>\n      <td>2</td>\n    </tr>\n    <tr>\n      <th>b</th>\n      <td>3</td>\n      <td>4</td>\n      <td>5</td>\n    </tr>\n  </tbody>\n</table>\n</div>"
     },
     "metadata": {},
     "execution_count": 13
    }
   ],
   "source": [
    "# podemos eliminar todo un indice\n",
    "\n",
    "df.drop('c')"
   ]
  },
  {
   "cell_type": "code",
   "execution_count": 14,
   "metadata": {},
   "outputs": [
    {
     "output_type": "execute_result",
     "data": {
      "text/plain": "   c1  c2\na   0   1\nb   3   4\nc   6   7",
      "text/html": "<div>\n<style scoped>\n    .dataframe tbody tr th:only-of-type {\n        vertical-align: middle;\n    }\n\n    .dataframe tbody tr th {\n        vertical-align: top;\n    }\n\n    .dataframe thead th {\n        text-align: right;\n    }\n</style>\n<table border=\"1\" class=\"dataframe\">\n  <thead>\n    <tr style=\"text-align: right;\">\n      <th></th>\n      <th>c1</th>\n      <th>c2</th>\n    </tr>\n  </thead>\n  <tbody>\n    <tr>\n      <th>a</th>\n      <td>0</td>\n      <td>1</td>\n    </tr>\n    <tr>\n      <th>b</th>\n      <td>3</td>\n      <td>4</td>\n    </tr>\n    <tr>\n      <th>c</th>\n      <td>6</td>\n      <td>7</td>\n    </tr>\n  </tbody>\n</table>\n</div>"
     },
     "metadata": {},
     "execution_count": 14
    }
   ],
   "source": [
    "# o toda una columna\n",
    "\n",
    "df.drop('c3',axis=1)"
   ]
  },
  {
   "cell_type": "code",
   "execution_count": 15,
   "metadata": {},
   "outputs": [
    {
     "output_type": "execute_result",
     "data": {
      "text/plain": "   c1  c2  c3\na   0   1   2\nc   6   7   8",
      "text/html": "<div>\n<style scoped>\n    .dataframe tbody tr th:only-of-type {\n        vertical-align: middle;\n    }\n\n    .dataframe tbody tr th {\n        vertical-align: top;\n    }\n\n    .dataframe thead th {\n        text-align: right;\n    }\n</style>\n<table border=\"1\" class=\"dataframe\">\n  <thead>\n    <tr style=\"text-align: right;\">\n      <th></th>\n      <th>c1</th>\n      <th>c2</th>\n      <th>c3</th>\n    </tr>\n  </thead>\n  <tbody>\n    <tr>\n      <th>a</th>\n      <td>0</td>\n      <td>1</td>\n      <td>2</td>\n    </tr>\n    <tr>\n      <th>c</th>\n      <td>6</td>\n      <td>7</td>\n      <td>8</td>\n    </tr>\n  </tbody>\n</table>\n</div>"
     },
     "metadata": {},
     "execution_count": 15
    }
   ],
   "source": [
    "# pero si queremos que los cambios sean permanentes tedremos que declararlo\n",
    "\n",
    "df = df.drop('b')\n",
    "df"
   ]
  },
  {
   "cell_type": "code",
   "execution_count": 16,
   "metadata": {},
   "outputs": [],
   "source": [
    "# Seleccionando datos en las series\n",
    "import pandas as pd\n",
    "import numpy as np"
   ]
  },
  {
   "cell_type": "code",
   "execution_count": 17,
   "metadata": {},
   "outputs": [],
   "source": [
    "valores = np.arange(3)\n",
    "indices = ['i1','i2','i3']\n",
    "\n",
    "serie = pd.Series(valores, index=indices)"
   ]
  },
  {
   "cell_type": "code",
   "execution_count": 18,
   "metadata": {},
   "outputs": [
    {
     "output_type": "execute_result",
     "data": {
      "text/plain": "i1    6\ni2    7\ni3    8\ndtype: int32"
     },
     "metadata": {},
     "execution_count": 18
    }
   ],
   "source": [
    "serie['i2']*4\n",
    "serie[0:2]-10\n",
    "serie[serie > 3] =  9\n",
    "serie['i1':'i3']+6"
   ]
  },
  {
   "cell_type": "code",
   "execution_count": 19,
   "metadata": {},
   "outputs": [
    {
     "output_type": "execute_result",
     "data": {
      "text/plain": "i1    0\ni2    1\ni3    2\ndtype: int32"
     },
     "metadata": {},
     "execution_count": 19
    }
   ],
   "source": [
    "serie"
   ]
  },
  {
   "cell_type": "code",
   "execution_count": null,
   "metadata": {},
   "outputs": [],
   "source": []
  },
  {
   "cell_type": "code",
   "execution_count": 20,
   "metadata": {},
   "outputs": [
    {
     "output_type": "execute_result",
     "data": {
      "text/plain": "i1    0\ni2    1\ni3    2\ndtype: int32"
     },
     "metadata": {},
     "execution_count": 20
    }
   ],
   "source": [
    "\n",
    "serie"
   ]
  }
 ],
 "metadata": {
  "kernelspec": {
   "display_name": "Python 3.8.2 64-bit",
   "language": "python",
   "name": "python38264bit0d89407e10104d4f89d7b40f85d57db9"
  },
  "language_info": {
   "codemirror_mode": {
    "name": "ipython",
    "version": 3
   },
   "file_extension": ".py",
   "mimetype": "text/x-python",
   "name": "python",
   "nbconvert_exporter": "python",
   "pygments_lexer": "ipython3",
   "version": "3.8.2-final"
  }
 },
 "nbformat": 4,
 "nbformat_minor": 4
}