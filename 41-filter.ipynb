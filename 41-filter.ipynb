{
 "cells": [
  {
   "cell_type": "code",
   "execution_count": 1,
   "metadata": {},
   "outputs": [],
   "source": [
    "# filter\n",
    "# podemos crearnos filtros condicionales como funciones\n",
    "# y luego aplicarlos sobre listas con el método filter"
   ]
  },
  {
   "cell_type": "code",
   "execution_count": 2,
   "metadata": {},
   "outputs": [
    {
     "output_type": "stream",
     "name": "stdout",
     "text": "[3, 15, 653, 7932]\n"
    }
   ],
   "source": [
    "# por ejemplo, creamos una función que discrimine si un numero es positivo o negativo\n",
    "\n",
    "valores = [3,-14,15,-92,653,-589,7932,-3846]\n",
    "\n",
    "def positivo(num):\n",
    "    if (num > 0):\n",
    "        return True\n",
    "    else:\n",
    "        return False\n",
    "\n",
    "# ya de paso lo guardamos como una lista =P\n",
    "resultado = list( filter( positivo,valores ))\n",
    "\n",
    "print(resultado)"
   ]
  }
 ],
 "metadata": {
  "kernelspec": {
   "display_name": "Python 3.8.2 64-bit",
   "language": "python",
   "name": "python38264bit0d89407e10104d4f89d7b40f85d57db9"
  },
  "language_info": {
   "codemirror_mode": {
    "name": "ipython",
    "version": 3
   },
   "file_extension": ".py",
   "mimetype": "text/x-python",
   "name": "python",
   "nbconvert_exporter": "python",
   "pygments_lexer": "ipython3",
   "version": "3.8.2-final"
  }
 },
 "nbformat": 4,
 "nbformat_minor": 4
}