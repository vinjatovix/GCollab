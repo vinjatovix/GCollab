{
 "cells": [
  {
   "cell_type": "code",
   "execution_count": 1,
   "metadata": {},
   "outputs": [
    {
     "output_type": "execute_result",
     "data": {
      "text/plain": "'\\nNumPy es una extensión de Python, que le agrega mayor soporte para vectores y matrices, \\n# constituyendo una biblioteca de funciones matemáticas de alto nivel para operar con esos vectores o matrices.\\n\\nhttp://numpy.org\\n\\n'"
     },
     "metadata": {},
     "execution_count": 1
    }
   ],
   "source": [
    "# 43 Numpy\n",
    "'''\n",
    "NumPy es una extensión de Python, que le agrega mayor soporte para vectores y matrices, \n",
    "# constituyendo una biblioteca de funciones matemáticas de alto nivel para operar con esos vectores o matrices.\n",
    "\n",
    "http://numpy.org\n",
    "\n",
    "'''"
   ]
  },
  {
   "cell_type": "code",
   "execution_count": 2,
   "metadata": {},
   "outputs": [],
   "source": [
    "# Necesitamos importarlo.\n",
    "# para que sea comodo le voy a asignar el alias de np\n",
    "import numpy as np"
   ]
  },
  {
   "cell_type": "code",
   "execution_count": 3,
   "metadata": {},
   "outputs": [
    {
     "output_type": "stream",
     "name": "stdout",
     "text": "[0. 0. 0. 0.]\n[1. 1. 1. 1. 1.]\n[ 2  5  8 11 14 17]\n"
    }
   ],
   "source": [
    "# tiene un monton de métodos\n",
    "# https://numpy.org/doc\n",
    "\n",
    "print(np.zeros(4))\n",
    "print(np.ones(5))\n",
    "print(np.arange(2,20,3))"
   ]
  },
  {
   "cell_type": "code",
   "execution_count": 4,
   "metadata": {},
   "outputs": [
    {
     "output_type": "execute_result",
     "data": {
      "text/plain": "array([[ 1.  ,  2.  ,  3.  ,  4.  ],\n       [34.  , 56.  ,  2.  ,  7.  ],\n       [ 3.14, 14.  , 15.  , 92.  ]])"
     },
     "metadata": {},
     "execution_count": 4
    }
   ],
   "source": [
    "# Con numpy podemos hacer arrays de listas\n",
    "\n",
    "l1 = [1,2,3,4]\n",
    "l2 = [34,56,2,7]\n",
    "l3 = [3.14,14,15,92]\n",
    "\n",
    "l_multi = (l1,l2,l3)\n",
    "array = np.array(l_multi)\n",
    "\n",
    "array"
   ]
  },
  {
   "cell_type": "code",
   "execution_count": 5,
   "metadata": {},
   "outputs": [
    {
     "output_type": "stream",
     "name": "stdout",
     "text": "[[  2.     4.     6.     8.  ]\n [ 68.   112.     4.    14.  ]\n [  6.28  28.    30.   184.  ]]\n"
    },
    {
     "output_type": "execute_result",
     "data": {
      "text/plain": "array([[ 1.  ,  2.  ,  3.  ,  4.  ],\n       [34.  , 56.  ,  2.  ,  7.  ],\n       [ 3.14, 14.  , 15.  , 92.  ]])"
     },
     "metadata": {},
     "execution_count": 5
    }
   ],
   "source": [
    "# Operaciones con arrays (+,-,*,/,**)\n",
    "# hay que tener en cuenta que las operaciones no modifican el array\n",
    "\n",
    "print(array * 2)\n",
    "\n",
    "array"
   ]
  },
  {
   "cell_type": "code",
   "execution_count": 6,
   "metadata": {},
   "outputs": [
    {
     "output_type": "execute_result",
     "data": {
      "text/plain": "array([[-2.14, -1.14, -0.14,  0.86],\n       [30.86, 52.86, -1.14,  3.86],\n       [ 0.  , 10.86, 11.86, 88.86]])"
     },
     "metadata": {},
     "execution_count": 6
    }
   ],
   "source": [
    "# para eso tendremos que hacerlo como normalmente\n",
    "array = array - 3.14\n",
    "array"
   ]
  },
  {
   "cell_type": "code",
   "execution_count": 7,
   "metadata": {},
   "outputs": [
    {
     "output_type": "stream",
     "name": "stdout",
     "text": "float64\n(3, 4)\n"
    },
    {
     "output_type": "execute_result",
     "data": {
      "text/plain": "array([[-2.14, -1.14, -0.14,  0.86],\n       [30.86, 52.86, -1.14,  3.86],\n       [ 0.  , 10.86, 11.86, 88.86]])"
     },
     "metadata": {},
     "execution_count": 7
    }
   ],
   "source": [
    "# Podemos ver el tipo y estructura del array\n",
    "\n",
    "print(array.dtype)\n",
    "print(array.shape)\n",
    "array"
   ]
  },
  {
   "cell_type": "code",
   "execution_count": 8,
   "metadata": {},
   "outputs": [
    {
     "output_type": "stream",
     "name": "stdout",
     "text": "[ 0  1  2  3  4  5  6  7  8  9 10]\n"
    },
    {
     "output_type": "execute_result",
     "data": {
      "text/plain": "array([3, 4, 5, 6])"
     },
     "metadata": {},
     "execution_count": 8
    }
   ],
   "source": [
    "# Podemos indexar el array como ya conocemos\n",
    "\n",
    "a1 = np.arange(11)\n",
    "\n",
    "print(a1)\n",
    "\n",
    "a1[3:7]"
   ]
  },
  {
   "cell_type": "code",
   "execution_count": 9,
   "metadata": {},
   "outputs": [
    {
     "output_type": "stream",
     "name": "stdout",
     "text": "[[1 2 3]\n [4 5 6]\n [7 8 9]]\n"
    },
    {
     "output_type": "execute_result",
     "data": {
      "text/plain": "5"
     },
     "metadata": {},
     "execution_count": 9
    }
   ],
   "source": [
    "a2 = np.array(([1,2,3],[4,5,6],[7,8,9]))\n",
    "\n",
    "print(a2)\n",
    "\n",
    "a2[1][1]"
   ]
  },
  {
   "cell_type": "code",
   "execution_count": 10,
   "metadata": {},
   "outputs": [
    {
     "output_type": "stream",
     "name": "stdout",
     "text": "[[ 0  1  2  3  4]\n [ 5  6  7  8  9]\n [10 11 12 13 14]]\n"
    },
    {
     "output_type": "execute_result",
     "data": {
      "text/plain": "array([[ 0,  5, 10],\n       [ 1,  6, 11],\n       [ 2,  7, 12],\n       [ 3,  8, 13],\n       [ 4,  9, 14]])"
     },
     "metadata": {},
     "execution_count": 10
    }
   ],
   "source": [
    "# con numpy es muy sencillo hacer matrices transpuestas\n",
    "\n",
    "a1 = np.arange(15).reshape((3,5))\n",
    "print(a1)\n",
    "\n",
    "a2 = a1.T\n",
    "a2\n"
   ]
  },
  {
   "cell_type": "code",
   "execution_count": 11,
   "metadata": {},
   "outputs": [
    {
     "output_type": "execute_result",
     "data": {
      "text/plain": "array([0, 1, 2, 3, 4, 5])"
     },
     "metadata": {},
     "execution_count": 11
    }
   ],
   "source": [
    "# entrada y salida de arrays\n",
    "# podemos guardarlos y cargarlos como ficheros numpy\n",
    "\n",
    "a1 = np.arange(6)\n",
    "np.save('a1S', a1)\n",
    "np.load('a1S.npy')"
   ]
  },
  {
   "cell_type": "code",
   "execution_count": 12,
   "metadata": {},
   "outputs": [
    {
     "output_type": "execute_result",
     "data": {
      "text/plain": "array([0, 1, 2, 3, 4, 5])"
     },
     "metadata": {},
     "execution_count": 12
    }
   ],
   "source": [
    "a2 = np.arange(8)\n",
    "np.savez('arrays',x=a1,y=a2)\n",
    "arrays = np.load('arrays.npz')\n",
    "arrays['x']"
   ]
  },
  {
   "cell_type": "code",
   "execution_count": 13,
   "metadata": {},
   "outputs": [
    {
     "output_type": "execute_result",
     "data": {
      "text/plain": "array([0., 1., 2., 3., 4., 5., 6., 7.])"
     },
     "metadata": {},
     "execution_count": 13
    }
   ],
   "source": [
    "# o como txt, en este caso indicamos con la , donde se hace la división del array\n",
    "\n",
    "np.savetxt('arrays.txt',a2,delimiter=',')\n",
    "np.loadtxt('arrays.txt',delimiter=',')"
   ]
  },
  {
   "cell_type": "code",
   "execution_count": 14,
   "metadata": {},
   "outputs": [
    {
     "output_type": "execute_result",
     "data": {
      "text/plain": "array([0.        , 1.        , 1.41421356, 1.73205081, 2.        ])"
     },
     "metadata": {},
     "execution_count": 14
    }
   ],
   "source": [
    "# ejemplos de Funciones con arrays\n",
    "a1 = np.arange(5)\n",
    "np.sqrt(a1)"
   ]
  },
  {
   "cell_type": "code",
   "execution_count": 15,
   "metadata": {},
   "outputs": [
    {
     "output_type": "execute_result",
     "data": {
      "text/plain": "array([0.52098243, 0.7587436 , 0.29114175, 0.46587326, 0.71572657])"
     },
     "metadata": {},
     "execution_count": 15
    }
   ],
   "source": [
    "np.random.rand(5)"
   ]
  },
  {
   "cell_type": "code",
   "execution_count": 16,
   "metadata": {},
   "outputs": [
    {
     "output_type": "stream",
     "name": "stdout",
     "text": "[0 1 2 3 4]\n[5 6 1 2 0]\n"
    },
    {
     "output_type": "execute_result",
     "data": {
      "text/plain": "array([5, 6, 2, 3, 4])"
     },
     "metadata": {},
     "execution_count": 16
    }
   ],
   "source": [
    "a1 = np.arange(5)\n",
    "l1 = [5,6,1,2,0]\n",
    "a2 = np.array(l1)\n",
    "\n",
    "np.add(a1,a2)\n",
    "np.maximum(a1,a2)"
   ]
  }
 ],
 "metadata": {
  "kernelspec": {
   "display_name": "Python 3.8.2 64-bit",
   "language": "python",
   "name": "python38264bit0d89407e10104d4f89d7b40f85d57db9"
  },
  "language_info": {
   "codemirror_mode": {
    "name": "ipython",
    "version": 3
   },
   "file_extension": ".py",
   "mimetype": "text/x-python",
   "name": "python",
   "nbconvert_exporter": "python",
   "pygments_lexer": "ipython3",
   "version": "3.8.2-final"
  }
 },
 "nbformat": 4,
 "nbformat_minor": 4
}