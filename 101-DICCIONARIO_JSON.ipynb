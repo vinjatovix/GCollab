{
 "cells": [
  {
   "cell_type": "markdown",
   "metadata": {},
   "source": [
    "# Este módulo contiene un pequeño buscador de diccionarios en formato JSON"
   ]
  },
  {
   "cell_type": "code",
   "execution_count": 9,
   "metadata": {},
   "outputs": [],
   "source": [
    "# importamos json y una librería que nos permite encontrar resultados similares\n",
    "import json\n",
    "from difflib import get_close_matches"
   ]
  },
  {
   "cell_type": "code",
   "execution_count": 10,
   "metadata": {},
   "outputs": [
    {
     "name": "stdout",
     "output_type": "stream",
     "text": [
      "introduce la ruta completa del archivo json: test.json\n"
     ]
    }
   ],
   "source": [
    "# Escogemos la ruta del diccionario\n",
    "data = json.load(open(input('introduce la ruta completa del archivo json: ')))"
   ]
  },
  {
   "cell_type": "code",
   "execution_count": 11,
   "metadata": {},
   "outputs": [
    {
     "name": "stdout",
     "output_type": "stream",
     "text": [
      "¿Qué palabra quieres buscar?: fase\n",
      "Estado instantaneo en el que se encuentra el ciclo\n",
      "Pantalla en la que te encuentras de un videojuego\n"
     ]
    }
   ],
   "source": [
    "# En la función buscar \n",
    "def buscar(palabra):\n",
    "    # Buscaremos por minúsculas\n",
    "    palabra = palabra.lower()\n",
    "    if palabra in data:\n",
    "        return data[palabra]\n",
    "    # Buscaremos la primera mayúscula\n",
    "    elif palabra.title() in data:\n",
    "        return data[palabra.title()]\n",
    "    # Buscaremos todo mayúsculas\n",
    "    elif palabra.upper() in data:\n",
    "        return data[palabra.upper()]\n",
    "    \n",
    "    # Si no se encuentra buscaremos el resultado parecido más cercano\n",
    "    elif len(get_close_matches(palabra , data.keys())) > 0 :\n",
    "        print(\"tal vez quisiste decir %s en su lugar\" %get_close_matches(palabra, data.keys())[0])\n",
    "        \n",
    "        y = 0\n",
    "        while y == 0:\n",
    "            # Se le da la opción al usuario de ver la alternativa y se valida su respuesta\n",
    "            decide = input(\"pulsa 's' si es así, y 'n' en caso contrario: \")\n",
    "            if decide == \"s\":\n",
    "                return data[get_close_matches(palabra , data.keys())[0]]\n",
    "                y = 1\n",
    "            elif decide == \"n\":\n",
    "                return(\"en serio?\")\n",
    "                break\n",
    "            else:\n",
    "                print(\"lo siento, no te he entendido, pulsa 's' o 'n': \")\n",
    "    else:\n",
    "        print(\"pues no se que decir...\")\n",
    "\n",
    "\n",
    "\n",
    "# Con esto le pedimos la palabra al usuario\n",
    "palabra = input(\"¿Qué palabra quieres buscar?: \")\n",
    "\n",
    "# Con esto ofrecemos la respuesta\n",
    "output = buscar(palabra)\n",
    "\n",
    "# Puede ser que haya mas de una respuesta para una palabra, o sea una lista...\n",
    "if type(output) == list:\n",
    "    for item in output:\n",
    "        print(item)\n",
    "else:\n",
    "    print(output)"
   ]
  },
  {
   "cell_type": "code",
   "execution_count": null,
   "metadata": {},
   "outputs": [],
   "source": []
  }
 ],
 "metadata": {
  "kernelspec": {
   "display_name": "Python 3.8.2 64-bit",
   "language": "python",
   "name": "python38264bit0d89407e10104d4f89d7b40f85d57db9"
  },
  "language_info": {
   "codemirror_mode": {
    "name": "ipython",
    "version": 3
   },
   "file_extension": ".py",
   "mimetype": "text/x-python",
   "name": "python",
   "nbconvert_exporter": "python",
   "pygments_lexer": "ipython3",
   "version": "3.8.2"
  }
 },
 "nbformat": 4,
 "nbformat_minor": 4
}
